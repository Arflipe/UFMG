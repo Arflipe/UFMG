{
 "cells": [
  {
   "cell_type": "markdown",
   "metadata": {},
   "source": [
    "## Lista 25"
   ]
  },
  {
   "cell_type": "markdown",
   "metadata": {},
   "source": [
    "1- What is one innovation that each of the following languages brought?\n",
    "\n",
    "a) Fortran\n",
    "\n",
    "\tCompilers\n",
    "\n",
    "b) Lisp\n",
    "\n",
    "\tFunctional programming\n",
    "\n",
    "c) Simula 67\n",
    "\n",
    "\tObject-oriented programming\n",
    "\n",
    "d) ML\n",
    "\n",
    "\tType inference"
   ]
  },
  {
   "cell_type": "markdown",
   "metadata": {},
   "source": [
    "2- Some programming languages are small, others are large.\n",
    "\n",
    "a) In your opinion, how is the size of a programming language measured?\n",
    "\n",
    "\tBy the size of its AST\n",
    "\n",
    "b) Some think that a programming language should have as many features in its base syntax as possible. What is the advantage of this approach?\n",
    "\n",
    "\tIt becomes easier to write complex programs, and the programs have fewer lines of code.\n",
    "\n",
    "c) Others think that they must be created small and should grow based on the user's needs. What is the advantage of this approach?\n",
    "\n",
    "\tIt is easier to learn the language, and the language has fewer features that are not used.\n",
    "\n",
    "d) How does a programming language grow?\n",
    "\n",
    "\tBy adding more nodes to its AST."
   ]
  },
  {
   "cell_type": "markdown",
   "metadata": {},
   "source": [
    "3- Java is neither a small nor a large language. Its designers chose to keep a large part of its functionality in libraries. What is the advantage of this approach?\n",
    "\n",
    "\tJava is relatively easy to learn, and it is easier to extend the language, by adding to its libraries."
   ]
  }
 ],
 "metadata": {
  "language_info": {
   "name": "python"
  }
 },
 "nbformat": 4,
 "nbformat_minor": 2
}
