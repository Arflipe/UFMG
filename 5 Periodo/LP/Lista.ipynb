{
 "cells": [
  {
   "cell_type": "markdown",
   "metadata": {},
   "source": [
    "# Lista 14"
   ]
  },
  {
   "cell_type": "code",
   "execution_count": 52,
   "metadata": {},
   "outputs": [],
   "source": [
    "import time\n",
    "import matplotlib.pyplot as plt"
   ]
  },
  {
   "cell_type": "code",
   "execution_count": 53,
   "metadata": {},
   "outputs": [],
   "source": [
    "def sievePrimes0(candidates):\n",
    "\tfor i in range(0, int(len(candidates) ** 0.5 + 1)):\n",
    "\t\tcurrentPrime = candidates[i]\n",
    "\t\tif currentPrime != 0:\n",
    "\t\t\tfor j in range(i + currentPrime, len(candidates), currentPrime):\n",
    "\t\t\t\tif candidates[j] % candidates[i] == 0:\n",
    "\t\t\t\t\tcandidates[j] = 0\n",
    "\treturn filter(lambda x : x != 0, candidates)\n",
    "\n",
    "def sievePrimes1(l):\n",
    "\tif l[0] * l[0] <= l[len(l) - 1]:\n",
    "\t\tl[1:] = sievePrimes1(list(filter(lambda x: x % l[0] != 0, l)))\n",
    "\treturn l"
   ]
  },
  {
   "cell_type": "code",
   "execution_count": 54,
   "metadata": {},
   "outputs": [],
   "source": [
    "def timeSieve(maxPrime, numTimes, sieveFunc):\n",
    "\tt0 = 0\n",
    "\tfor numTries in range(0, numTimes):\n",
    "\t\ttaux = time.time()\n",
    "\t\tprimes0 = sieveFunc(list(range(2, maxPrime)))\n",
    "\t\tt0 = t0 + time.time() - taux\n",
    "\tttime = t0 / numTimes\n",
    "\treturn ttime"
   ]
  },
  {
   "cell_type": "code",
   "execution_count": 55,
   "metadata": {},
   "outputs": [],
   "source": [
    "def plotSieves():\n",
    "\tx = [10, 50, 100, 500, 1000, 5000, 10000, 50000, 100000, 500000]\n",
    "\ty0 = []\n",
    "\ty1 = []\n",
    "\tfor maxPrime in x:\n",
    "\t\ty0.append(timeSieve(maxPrime, 5, sievePrimes0))\n",
    "\t\ty1.append(timeSieve(maxPrime, 5, sievePrimes1))\n",
    "\tprint (\"y0: \", y0)\n",
    "\tprint (\"y1: \", y1)\n",
    "\tplt.plot(x, y0, 'r', x, y1, 'b')\n",
    "\tplt.show()\n"
   ]
  },
  {
   "cell_type": "code",
   "execution_count": 56,
   "metadata": {},
   "outputs": [
    {
     "ename": "KeyboardInterrupt",
     "evalue": "",
     "output_type": "error",
     "traceback": [
      "\u001b[0;31m---------------------------------------------------------------------------\u001b[0m",
      "\u001b[0;31mKeyboardInterrupt\u001b[0m                         Traceback (most recent call last)",
      "\u001b[1;32m/home/flipe/UFMG/5 Periodo/LP/Lista.ipynb Cell 6\u001b[0m line \u001b[0;36m1\n\u001b[0;32m----> <a href='vscode-notebook-cell://wsl%2Bubuntu/home/flipe/UFMG/5%20Periodo/LP/Lista.ipynb#W5sdnNjb2RlLXJlbW90ZQ%3D%3D?line=0'>1</a>\u001b[0m plotSieves()\n",
      "\u001b[1;32m/home/flipe/UFMG/5 Periodo/LP/Lista.ipynb Cell 6\u001b[0m line \u001b[0;36m7\n\u001b[1;32m      <a href='vscode-notebook-cell://wsl%2Bubuntu/home/flipe/UFMG/5%20Periodo/LP/Lista.ipynb#W5sdnNjb2RlLXJlbW90ZQ%3D%3D?line=4'>5</a>\u001b[0m \u001b[39mfor\u001b[39;00m maxPrime \u001b[39min\u001b[39;00m x:\n\u001b[1;32m      <a href='vscode-notebook-cell://wsl%2Bubuntu/home/flipe/UFMG/5%20Periodo/LP/Lista.ipynb#W5sdnNjb2RlLXJlbW90ZQ%3D%3D?line=5'>6</a>\u001b[0m \ty0\u001b[39m.\u001b[39mappend(timeSieve(maxPrime, \u001b[39m5\u001b[39m, sievePrimes0))\n\u001b[0;32m----> <a href='vscode-notebook-cell://wsl%2Bubuntu/home/flipe/UFMG/5%20Periodo/LP/Lista.ipynb#W5sdnNjb2RlLXJlbW90ZQ%3D%3D?line=6'>7</a>\u001b[0m \ty1\u001b[39m.\u001b[39mappend(timeSieve(maxPrime, \u001b[39m5\u001b[39;49m, sievePrimes1))\n\u001b[1;32m      <a href='vscode-notebook-cell://wsl%2Bubuntu/home/flipe/UFMG/5%20Periodo/LP/Lista.ipynb#W5sdnNjb2RlLXJlbW90ZQ%3D%3D?line=7'>8</a>\u001b[0m \u001b[39mprint\u001b[39m (\u001b[39m\"\u001b[39m\u001b[39my0: \u001b[39m\u001b[39m\"\u001b[39m, y0)\n\u001b[1;32m      <a href='vscode-notebook-cell://wsl%2Bubuntu/home/flipe/UFMG/5%20Periodo/LP/Lista.ipynb#W5sdnNjb2RlLXJlbW90ZQ%3D%3D?line=8'>9</a>\u001b[0m \u001b[39mprint\u001b[39m (\u001b[39m\"\u001b[39m\u001b[39my1: \u001b[39m\u001b[39m\"\u001b[39m, y1)\n",
      "\u001b[1;32m/home/flipe/UFMG/5 Periodo/LP/Lista.ipynb Cell 6\u001b[0m line \u001b[0;36m5\n\u001b[1;32m      <a href='vscode-notebook-cell://wsl%2Bubuntu/home/flipe/UFMG/5%20Periodo/LP/Lista.ipynb#W5sdnNjb2RlLXJlbW90ZQ%3D%3D?line=2'>3</a>\u001b[0m \u001b[39mfor\u001b[39;00m numTries \u001b[39min\u001b[39;00m \u001b[39mrange\u001b[39m(\u001b[39m0\u001b[39m, numTimes):\n\u001b[1;32m      <a href='vscode-notebook-cell://wsl%2Bubuntu/home/flipe/UFMG/5%20Periodo/LP/Lista.ipynb#W5sdnNjb2RlLXJlbW90ZQ%3D%3D?line=3'>4</a>\u001b[0m \ttaux \u001b[39m=\u001b[39m time\u001b[39m.\u001b[39mtime()\n\u001b[0;32m----> <a href='vscode-notebook-cell://wsl%2Bubuntu/home/flipe/UFMG/5%20Periodo/LP/Lista.ipynb#W5sdnNjb2RlLXJlbW90ZQ%3D%3D?line=4'>5</a>\u001b[0m \tprimes0 \u001b[39m=\u001b[39m sieveFunc(\u001b[39mlist\u001b[39;49m(\u001b[39mrange\u001b[39;49m(\u001b[39m2\u001b[39;49m, maxPrime)))\n\u001b[1;32m      <a href='vscode-notebook-cell://wsl%2Bubuntu/home/flipe/UFMG/5%20Periodo/LP/Lista.ipynb#W5sdnNjb2RlLXJlbW90ZQ%3D%3D?line=5'>6</a>\u001b[0m \tt0 \u001b[39m=\u001b[39m t0 \u001b[39m+\u001b[39m time\u001b[39m.\u001b[39mtime() \u001b[39m-\u001b[39m taux\n\u001b[1;32m      <a href='vscode-notebook-cell://wsl%2Bubuntu/home/flipe/UFMG/5%20Periodo/LP/Lista.ipynb#W5sdnNjb2RlLXJlbW90ZQ%3D%3D?line=6'>7</a>\u001b[0m ttime \u001b[39m=\u001b[39m t0 \u001b[39m/\u001b[39m numTimes\n",
      "\u001b[1;32m/home/flipe/UFMG/5 Periodo/LP/Lista.ipynb Cell 6\u001b[0m line \u001b[0;36m1\n\u001b[1;32m     <a href='vscode-notebook-cell://wsl%2Bubuntu/home/flipe/UFMG/5%20Periodo/LP/Lista.ipynb#W5sdnNjb2RlLXJlbW90ZQ%3D%3D?line=9'>10</a>\u001b[0m \u001b[39mdef\u001b[39;00m \u001b[39msievePrimes1\u001b[39m(l):\n\u001b[1;32m     <a href='vscode-notebook-cell://wsl%2Bubuntu/home/flipe/UFMG/5%20Periodo/LP/Lista.ipynb#W5sdnNjb2RlLXJlbW90ZQ%3D%3D?line=10'>11</a>\u001b[0m \t\u001b[39mif\u001b[39;00m l[\u001b[39m0\u001b[39m] \u001b[39m*\u001b[39m l[\u001b[39m0\u001b[39m] \u001b[39m<\u001b[39m\u001b[39m=\u001b[39m l[\u001b[39mlen\u001b[39m(l) \u001b[39m-\u001b[39m \u001b[39m1\u001b[39m]:\n\u001b[0;32m---> <a href='vscode-notebook-cell://wsl%2Bubuntu/home/flipe/UFMG/5%20Periodo/LP/Lista.ipynb#W5sdnNjb2RlLXJlbW90ZQ%3D%3D?line=11'>12</a>\u001b[0m \t\tl[\u001b[39m1\u001b[39m:] \u001b[39m=\u001b[39m sievePrimes1(\u001b[39mlist\u001b[39;49m(\u001b[39mfilter\u001b[39;49m(\u001b[39mlambda\u001b[39;49;00m x: x \u001b[39m%\u001b[39;49m l[\u001b[39m0\u001b[39;49m] \u001b[39m!=\u001b[39;49m \u001b[39m0\u001b[39;49m, l)))\n\u001b[1;32m     <a href='vscode-notebook-cell://wsl%2Bubuntu/home/flipe/UFMG/5%20Periodo/LP/Lista.ipynb#W5sdnNjb2RlLXJlbW90ZQ%3D%3D?line=12'>13</a>\u001b[0m \t\u001b[39mreturn\u001b[39;00m l\n",
      "\u001b[1;32m/home/flipe/UFMG/5 Periodo/LP/Lista.ipynb Cell 6\u001b[0m line \u001b[0;36m1\n\u001b[1;32m     <a href='vscode-notebook-cell://wsl%2Bubuntu/home/flipe/UFMG/5%20Periodo/LP/Lista.ipynb#W5sdnNjb2RlLXJlbW90ZQ%3D%3D?line=9'>10</a>\u001b[0m \u001b[39mdef\u001b[39;00m \u001b[39msievePrimes1\u001b[39m(l):\n\u001b[1;32m     <a href='vscode-notebook-cell://wsl%2Bubuntu/home/flipe/UFMG/5%20Periodo/LP/Lista.ipynb#W5sdnNjb2RlLXJlbW90ZQ%3D%3D?line=10'>11</a>\u001b[0m \t\u001b[39mif\u001b[39;00m l[\u001b[39m0\u001b[39m] \u001b[39m*\u001b[39m l[\u001b[39m0\u001b[39m] \u001b[39m<\u001b[39m\u001b[39m=\u001b[39m l[\u001b[39mlen\u001b[39m(l) \u001b[39m-\u001b[39m \u001b[39m1\u001b[39m]:\n\u001b[0;32m---> <a href='vscode-notebook-cell://wsl%2Bubuntu/home/flipe/UFMG/5%20Periodo/LP/Lista.ipynb#W5sdnNjb2RlLXJlbW90ZQ%3D%3D?line=11'>12</a>\u001b[0m \t\tl[\u001b[39m1\u001b[39m:] \u001b[39m=\u001b[39m sievePrimes1(\u001b[39mlist\u001b[39;49m(\u001b[39mfilter\u001b[39;49m(\u001b[39mlambda\u001b[39;49;00m x: x \u001b[39m%\u001b[39;49m l[\u001b[39m0\u001b[39;49m] \u001b[39m!=\u001b[39;49m \u001b[39m0\u001b[39;49m, l)))\n\u001b[1;32m     <a href='vscode-notebook-cell://wsl%2Bubuntu/home/flipe/UFMG/5%20Periodo/LP/Lista.ipynb#W5sdnNjb2RlLXJlbW90ZQ%3D%3D?line=12'>13</a>\u001b[0m \t\u001b[39mreturn\u001b[39;00m l\n",
      "    \u001b[0;31m[... skipping similar frames: sievePrimes1 at line 12 (23 times)]\u001b[0m\n",
      "\u001b[1;32m/home/flipe/UFMG/5 Periodo/LP/Lista.ipynb Cell 6\u001b[0m line \u001b[0;36m1\n\u001b[1;32m     <a href='vscode-notebook-cell://wsl%2Bubuntu/home/flipe/UFMG/5%20Periodo/LP/Lista.ipynb#W5sdnNjb2RlLXJlbW90ZQ%3D%3D?line=9'>10</a>\u001b[0m \u001b[39mdef\u001b[39;00m \u001b[39msievePrimes1\u001b[39m(l):\n\u001b[1;32m     <a href='vscode-notebook-cell://wsl%2Bubuntu/home/flipe/UFMG/5%20Periodo/LP/Lista.ipynb#W5sdnNjb2RlLXJlbW90ZQ%3D%3D?line=10'>11</a>\u001b[0m \t\u001b[39mif\u001b[39;00m l[\u001b[39m0\u001b[39m] \u001b[39m*\u001b[39m l[\u001b[39m0\u001b[39m] \u001b[39m<\u001b[39m\u001b[39m=\u001b[39m l[\u001b[39mlen\u001b[39m(l) \u001b[39m-\u001b[39m \u001b[39m1\u001b[39m]:\n\u001b[0;32m---> <a href='vscode-notebook-cell://wsl%2Bubuntu/home/flipe/UFMG/5%20Periodo/LP/Lista.ipynb#W5sdnNjb2RlLXJlbW90ZQ%3D%3D?line=11'>12</a>\u001b[0m \t\tl[\u001b[39m1\u001b[39m:] \u001b[39m=\u001b[39m sievePrimes1(\u001b[39mlist\u001b[39;49m(\u001b[39mfilter\u001b[39;49m(\u001b[39mlambda\u001b[39;49;00m x: x \u001b[39m%\u001b[39;49m l[\u001b[39m0\u001b[39;49m] \u001b[39m!=\u001b[39;49m \u001b[39m0\u001b[39;49m, l)))\n\u001b[1;32m     <a href='vscode-notebook-cell://wsl%2Bubuntu/home/flipe/UFMG/5%20Periodo/LP/Lista.ipynb#W5sdnNjb2RlLXJlbW90ZQ%3D%3D?line=12'>13</a>\u001b[0m \t\u001b[39mreturn\u001b[39;00m l\n",
      "\u001b[1;32m/home/flipe/UFMG/5 Periodo/LP/Lista.ipynb Cell 6\u001b[0m line \u001b[0;36m1\n\u001b[1;32m     <a href='vscode-notebook-cell://wsl%2Bubuntu/home/flipe/UFMG/5%20Periodo/LP/Lista.ipynb#W5sdnNjb2RlLXJlbW90ZQ%3D%3D?line=9'>10</a>\u001b[0m \u001b[39mdef\u001b[39;00m \u001b[39msievePrimes1\u001b[39m(l):\n\u001b[1;32m     <a href='vscode-notebook-cell://wsl%2Bubuntu/home/flipe/UFMG/5%20Periodo/LP/Lista.ipynb#W5sdnNjb2RlLXJlbW90ZQ%3D%3D?line=10'>11</a>\u001b[0m \t\u001b[39mif\u001b[39;00m l[\u001b[39m0\u001b[39m] \u001b[39m*\u001b[39m l[\u001b[39m0\u001b[39m] \u001b[39m<\u001b[39m\u001b[39m=\u001b[39m l[\u001b[39mlen\u001b[39m(l) \u001b[39m-\u001b[39m \u001b[39m1\u001b[39m]:\n\u001b[0;32m---> <a href='vscode-notebook-cell://wsl%2Bubuntu/home/flipe/UFMG/5%20Periodo/LP/Lista.ipynb#W5sdnNjb2RlLXJlbW90ZQ%3D%3D?line=11'>12</a>\u001b[0m \t\tl[\u001b[39m1\u001b[39m:] \u001b[39m=\u001b[39m sievePrimes1(\u001b[39mlist\u001b[39m(\u001b[39mfilter\u001b[39m(\u001b[39mlambda\u001b[39;00m x: x \u001b[39m%\u001b[39m l[\u001b[39m0\u001b[39m] \u001b[39m!=\u001b[39m \u001b[39m0\u001b[39m, l)))\n\u001b[1;32m     <a href='vscode-notebook-cell://wsl%2Bubuntu/home/flipe/UFMG/5%20Periodo/LP/Lista.ipynb#W5sdnNjb2RlLXJlbW90ZQ%3D%3D?line=12'>13</a>\u001b[0m \t\u001b[39mreturn\u001b[39;00m l\n",
      "\u001b[0;31mKeyboardInterrupt\u001b[0m: "
     ]
    }
   ],
   "source": [
    "plotSieves()"
   ]
  },
  {
   "cell_type": "code",
   "execution_count": null,
   "metadata": {},
   "outputs": [],
   "source": [
    "def testPrimes():\n",
    "\tnumTimes = int(input())\n",
    "\tfor numTries in range(0, numTimes):\n",
    "\t\tmaxPrime = int(input())\n",
    "\t\tsievePrimes0(list(range(2, maxPrime)))\n",
    "\t\tsievePrimes1(list(range(2, maxPrime)))\n",
    "\n",
    "testPrimes()"
   ]
  },
  {
   "cell_type": "code",
   "execution_count": null,
   "metadata": {},
   "outputs": [
    {
     "name": "stdout",
     "output_type": "stream",
     "text": [
      "b\n",
      "[2]\n"
     ]
    }
   ],
   "source": [
    "def mystery(limit):\n",
    "\tnums = []\n",
    "\tfor n in range(2, limit):\n",
    "\t\tfor x in range(2, n):\n",
    "\t\t\tif n % x == 0:\n",
    "\t\t\t\tprint(\"a\")\n",
    "\t\t\t\tbreak\n",
    "\t\telse:\n",
    "\t\t\tprint(\"b\")\n",
    "\t\t\tnums.append(n)\n",
    "\treturn nums\n",
    "\n",
    "print (mystery(3))"
   ]
  },
  {
   "cell_type": "code",
   "execution_count": null,
   "metadata": {},
   "outputs": [],
   "source": [
    "def pydiv(n, d):\n",
    "\tif d != 0:\n",
    "\t\treturn n / d"
   ]
  },
  {
   "cell_type": "code",
   "execution_count": null,
   "metadata": {},
   "outputs": [
    {
     "name": "stdout",
     "output_type": "stream",
     "text": [
      "None\n",
      "1.0\n"
     ]
    }
   ],
   "source": [
    "x = pydiv(1, 0)\n",
    "print (x)\n",
    "y = pydiv(1, 1)\n",
    "print (y)"
   ]
  },
  {
   "cell_type": "markdown",
   "metadata": {},
   "source": [
    "Both cells below have the same functionality, but the first one is more readable and the second one is more compact."
   ]
  },
  {
   "cell_type": "code",
   "execution_count": null,
   "metadata": {},
   "outputs": [],
   "source": [
    "def perm(n, l):\n",
    "\tperml = []\n",
    "\tif len(l) == 1:\n",
    "\t\treturn [l]\n",
    "\telse:\n",
    "\t\tif len(l) != n:\n",
    "\t\t\tfor i in range(0, len(l)):\n",
    "\t\t\t\tauxl = l.copy()\n",
    "\t\t\t\tauxl.remove(auxl[i])\n",
    "\t\t\t\taux = perm(n, auxl)\n",
    "\t\t\t\tfor j in aux:\n",
    "\t\t\t\t\tif j not in perml:\n",
    "\t\t\t\t\t\tperml.append(j)\n",
    "\t\telse:\n",
    "\t\t\tfor i in range(0, len(l)):\n",
    "\t\t\t\tauxl = l.copy()\n",
    "\t\t\t\tauxl.remove(auxl[i])\n",
    "\t\t\t\taux = perm(n - 1, auxl)\n",
    "\t\t\t\tfor j in aux:\n",
    "\t\t\t\t\tif [l[i]] + j not in perml:\n",
    "\t\t\t\t\t\tperml.append([l[i]] + j)\n",
    "\n",
    "\treturn perml"
   ]
  },
  {
   "cell_type": "code",
   "execution_count": null,
   "metadata": {},
   "outputs": [],
   "source": [
    "def perm(n, l):\n",
    "\tperml = []\n",
    "\tif len(l) == 1:\n",
    "\t\treturn [l]\n",
    "\tfor i in range(0, len(l)):\n",
    "\t\tauxl = l.copy()\n",
    "\t\tauxl.remove(auxl[i])\n",
    "\t\tnn = n\n",
    "\t\tif len(l) == n:\n",
    "\t\t\tnn -= 1\n",
    "\t\tp = perm(nn, auxl)\n",
    "\t\tfor j in p:\n",
    "\t\t\taux = j\n",
    "\t\t\tif len(l) == n:\n",
    "\t\t\t\taux = [l[i]] + aux\n",
    "\t\t\tif aux not in perml:\n",
    "\t\t\t\tperml.append(aux)\n",
    "\treturn perml"
   ]
  },
  {
   "cell_type": "code",
   "execution_count": null,
   "metadata": {},
   "outputs": [
    {
     "data": {
      "text/plain": [
       "[['d', 'e'],\n",
       " ['e', 'd'],\n",
       " ['c', 'e'],\n",
       " ['e', 'c'],\n",
       " ['c', 'd'],\n",
       " ['d', 'c'],\n",
       " ['b', 'e'],\n",
       " ['e', 'b'],\n",
       " ['b', 'd'],\n",
       " ['d', 'b'],\n",
       " ['b', 'c'],\n",
       " ['c', 'b'],\n",
       " ['a', 'e'],\n",
       " ['e', 'a'],\n",
       " ['a', 'd'],\n",
       " ['d', 'a'],\n",
       " ['a', 'c'],\n",
       " ['c', 'a'],\n",
       " ['a', 'b'],\n",
       " ['b', 'a']]"
      ]
     },
     "execution_count": 25,
     "metadata": {},
     "output_type": "execute_result"
    }
   ],
   "source": [
    "x = perm(2, ['a', 'b', 'c', 'd', 'e'])\n",
    "x"
   ]
  },
  {
   "cell_type": "code",
   "execution_count": null,
   "metadata": {},
   "outputs": [],
   "source": [
    "def getStringList(i):\n",
    "\tl = list(map(str, str(i)))\n",
    "\twhile len(l) != 4:\n",
    "\t\tl = ['0'] + l\n",
    "\treturn l"
   ]
  },
  {
   "cell_type": "code",
   "execution_count": null,
   "metadata": {},
   "outputs": [],
   "source": [
    "def distinctDigits(l):\n",
    "\tfor i in range(0, len(l)):\n",
    "\t\tfor j in range(i + 1, len(l)):\n",
    "\t\t\tif l[i] == l[j]:\n",
    "\t\t\t\treturn False\n",
    "\treturn True\n",
    "\t"
   ]
  },
  {
   "cell_type": "code",
   "execution_count": null,
   "metadata": {},
   "outputs": [],
   "source": [
    "def getPrimePermutations(perml, primes):\n",
    "\tprimePerm = []\n",
    "\tfor i in range(len(perml) - 1, -1, -1):\n",
    "\t\tnumStr = ''\n",
    "\t\tfor j in range(0, len(perml[i])):\n",
    "\t\t\tnumStr += perml[i][j]\n",
    "\t\tnum = int(numStr)\n",
    "\t\tif num in primes:\n",
    "\t\t\tprimePerm.append(num)\n",
    "\treturn primePerm"
   ]
  },
  {
   "cell_type": "code",
   "execution_count": null,
   "metadata": {},
   "outputs": [],
   "source": [
    "def findAP(primePerm):\n",
    "\tfor i in range(0, len(primePerm)):\n",
    "\t\tfor j in range(i + 1, len(primePerm)):\n",
    "\t\t\tfor k in range(j + 1, len(primePerm)):\n",
    "\t\t\t\tif abs(primePerm[j] - primePerm[i]) == abs(primePerm[k] - primePerm[j]):\n",
    "\t\t\t\t\treturn [primePerm[i], primePerm[j], primePerm[k]]\n",
    "\treturn []"
   ]
  },
  {
   "cell_type": "code",
   "execution_count": null,
   "metadata": {},
   "outputs": [],
   "source": [
    "def isInList(n, l):\n",
    "\tfor i in l:\n",
    "\t\tif n in i:\n",
    "\t\t\treturn True\n",
    "\treturn False"
   ]
  },
  {
   "cell_type": "code",
   "execution_count": null,
   "metadata": {},
   "outputs": [],
   "source": [
    "def findSequences():\n",
    "\tsequences = []\n",
    "\tprimes = sievePrimes1(list(range(2, 10000)))\n",
    "\tfor p in primes:\n",
    "\t\tl = getStringList(p)\n",
    "\t\tif not distinctDigits(l):\n",
    "\t\t\tcontinue\n",
    "\t\tperml = perm(4, l)\n",
    "\t\tprimePerm = getPrimePermutations(perml, primes)\n",
    "\t\tapPerm = findAP(primePerm)\n",
    "\t\tif len(apPerm) > 0:\n",
    "\t\t\tif not isInList(apPerm[0], sequences):\n",
    "\t\t\t\tsequences.append(apPerm)\n",
    "\treturn sequences\n"
   ]
  },
  {
   "cell_type": "code",
   "execution_count": null,
   "metadata": {},
   "outputs": [
    {
     "data": {
      "text/plain": [
       "[[1063, 613, 163], [7039, 3709, 379], [8147, 4817, 1487]]"
      ]
     },
     "execution_count": 178,
     "metadata": {},
     "output_type": "execute_result"
    }
   ],
   "source": [
    "findSequences()"
   ]
  },
  {
   "cell_type": "markdown",
   "metadata": {},
   "source": [
    "# Lista 15"
   ]
  },
  {
   "cell_type": "markdown",
   "metadata": {},
   "source": [
    "First-Fit"
   ]
  },
  {
   "cell_type": "markdown",
   "metadata": {},
   "source": [
    "Given by the exercise"
   ]
  },
  {
   "cell_type": "code",
   "execution_count": null,
   "metadata": {},
   "outputs": [],
   "source": [
    "NULL = -1 # The null link\n",
    "\n",
    "class HeapManager:\n",
    "  \"\"\"Implements a very simple heap manager.\"\"\"\n",
    "\n",
    "  def __init__(self, initialMemory):\n",
    "    \"\"\"Constructor. Parameter initialMemory is the array of data that we will\n",
    "       use to represent the memory.\"\"\"\n",
    "    self.memory = initialMemory\n",
    "    self.memory[0] = self.memory.__len__()\n",
    "    self.memory[1] = NULL\n",
    "    self.freeStart = 0\n",
    "\n",
    "\n",
    "  def allocate(self, requestSize):\n",
    "    \"\"\"Allocates a block of data, and return its address. The parameter\n",
    "       requestSize is the amount of space that must be allocaed.\"\"\"\n",
    "    size = requestSize + 1\n",
    "    # Do first-fit search: linear search of the free list for the first block\n",
    "    # of sufficient size.\n",
    "    p = self.freeStart\n",
    "    lag = NULL\n",
    "    while p != NULL and self.memory[p] < size:\n",
    "      lag = p\n",
    "      p = self.memory[p + 1]\n",
    "    if p == NULL:\n",
    "      raise MemoryError()\n",
    "    nextFree = self.memory[p + 1]\n",
    "    # Now p is the index of a block of sufficient size,\n",
    "    # lag is the index of p's predecessor in the\n",
    "    # free list, or NULL, and nextFree is the index of\n",
    "    # p's successor in the free list, or NULL.\n",
    "    # If the block has more space than we need, carve\n",
    "    # out what we need from the front and return the\n",
    "    # unused end part to the free list.\n",
    "    unused = self.memory[p] - size\n",
    "    if unused > 1:\n",
    "      nextFree = p + size\n",
    "      self.memory[nextFree] = unused\n",
    "      self.memory[nextFree + 1] = self.memory[p + 1]\n",
    "      self.memory[p] = size\n",
    "    if lag == NULL:\n",
    "      self.freeStart = nextFree\n",
    "    else:\n",
    "      self.memory[lag + 1] = nextFree\n",
    "    return p + 1\n",
    "\n",
    "  def deallocate(self, address):\n",
    "    \"\"\"Deallocates the block of data that starts at address. This works only\n",
    "       if the block address is one that was returned by allocate and has not\n",
    "       yet been deallocated.\"\"\"\n",
    "    addr = address - 1\n",
    "    self.memory[addr + 1] = self.freeStart\n",
    "    self.freeStart = addr"
   ]
  },
  {
   "cell_type": "code",
   "execution_count": null,
   "metadata": {},
   "outputs": [
    {
     "name": "stdout",
     "output_type": "stream",
     "text": [
      "Memory =  [10, -1, 0, 0, 0, 0, 0, 0, 0, 0]\n",
      "p:  0\n",
      "a =  1 , Memory =  [5, -1, 0, 0, 0, 5, -1, 0, 0, 0]\n",
      "p:  5\n",
      "b =  6 , Memory =  [5, -1, 0, 0, 0, 2, -1, 3, -1, 0]\n",
      "p:  0\n",
      "c =  1 , Memory =  [3, 7, 0, 2, 7, 2, -1, 3, -1, 0]\n"
     ]
    }
   ],
   "source": [
    "def test():\n",
    "  h = HeapManager([0 for x in range(0, 10)])\n",
    "  print(\"Memory = \", h.memory)\n",
    "  a = h.allocate(4)\n",
    "  print(\"a = \", a, \", Memory = \", h.memory)\n",
    "  b = h.allocate(1)\n",
    "  print(\"b = \", b, \", Memory = \", h.memory)\n",
    "  h.deallocate(a)\n",
    "  c = h.allocate(2)\n",
    "  print(\"c = \", c, \", Memory = \", h.memory)\n",
    "\n",
    "test()"
   ]
  },
  {
   "cell_type": "markdown",
   "metadata": {},
   "source": [
    "Best-Fit"
   ]
  },
  {
   "cell_type": "code",
   "execution_count": null,
   "metadata": {},
   "outputs": [],
   "source": [
    "NULL = -1 # The null link\n",
    "\n",
    "class HeapManager:\n",
    "  \"\"\"Implements a very simple heap manager.\"\"\"\n",
    "\n",
    "  def __init__(self, initialMemory):\n",
    "    \"\"\"Constructor. Parameter initialMemory is the array of data that we will\n",
    "       use to represent the memory.\"\"\"\n",
    "    self.memory = initialMemory\n",
    "    self.memory[0] = self.memory.__len__()\n",
    "    self.memory[1] = NULL\n",
    "    self.freeStart = 0\n",
    "\n",
    "\n",
    "  def allocate(self, requestSize):\n",
    "    \"\"\"Allocates a block of data, and return its address. The parameter\n",
    "       requestSize is the amount of space that must be allocaed.\"\"\"\n",
    "    size = requestSize + 1\n",
    "    # Do first-fit search: linear search of the free list for the first block\n",
    "    # of sufficient size.\n",
    "    p = self.freeStart\n",
    "    lag = NULL\n",
    "\n",
    "    pArray = []\n",
    "    while p != NULL:\n",
    "      lag = p\n",
    "      pArray.append(p)\n",
    "      p = self.memory[p + 1]\n",
    "    if len(pArray) == 0:\n",
    "      raise MemoryError()\n",
    "    bestLag = NULL\n",
    "    bestP = pArray[0]\n",
    "    bestFree = 0\n",
    "    for i in range(1, len(pArray)):\n",
    "      bestFree = self.memory[bestP] - size\n",
    "      if bestFree == 0:\n",
    "        break\n",
    "      if bestFree < 0:\n",
    "        bestP = pArray[i]\n",
    "        bestLag = pArray[i - 1]\n",
    "        bestFree = self.memory[bestP] - size\n",
    "        continue\n",
    "      iFree = self.memory[pArray[i]] - size\n",
    "      if iFree < 0:\n",
    "        continue\n",
    "      if bestFree > iFree:\n",
    "        bestP = pArray[i]\n",
    "        bestLag = pArray[i - 1]\n",
    "    if bestFree < 0:\n",
    "      raise MemoryError()\n",
    "    p = bestP\n",
    "    lag = bestLag\n",
    "\t\n",
    "    nextFree = self.memory[p + 1]\n",
    "    # Now p is the index of a block of sufficient size,\n",
    "    # lag is the index of p's predecessor in the\n",
    "    # free list, or NULL, and nextFree is the index of\n",
    "    # p's successor in the free list, or NULL.\n",
    "    # If the block has more space than we need, carve\n",
    "    # out what we need from the front and return the\n",
    "    # unused end part to the free list.\n",
    "    unused = self.memory[p] - size\n",
    "    if unused > 1:\n",
    "      nextFree = p + size\n",
    "      self.memory[nextFree] = unused\n",
    "      self.memory[nextFree + 1] = self.memory[p + 1]\n",
    "      self.memory[p] = size\n",
    "    if lag == NULL:\n",
    "      self.freeStart = nextFree\n",
    "    else:\n",
    "      self.memory[lag + 1] = nextFree\n",
    "    return p + 1\n",
    "\n",
    "  def deallocate(self, address):\n",
    "      \"\"\"Deallocates the block of data that starts at address. This works only\n",
    "      if the block address is one that was returned by allocate and has not\n",
    "      yet been deallocated.\"\"\"\n",
    "      addr = address - 1\n",
    "      self.memory[addr + 1] = self.freeStart\n",
    "      self.freeStart = addr"
   ]
  },
  {
   "cell_type": "code",
   "execution_count": null,
   "metadata": {},
   "outputs": [
    {
     "name": "stdout",
     "output_type": "stream",
     "text": [
      "Memory =  [11, -1, 0, 0, 0, 0, 0, 0, 0, 0, 0]\n",
      "a =  1 , Memory =  [5, -1, 0, 0, 0, 6, -1, 0, 0, 0, 0]\n",
      "b =  6 , Memory =  [5, -1, 0, 0, 0, 2, -1, 4, -1, 0, 0]\n",
      "c =  8 , Memory =  [5, -1, 0, 0, 0, 2, -1, 4, -1, 0, 0]\n",
      "Memory =  [5, -1, 0, 0, 0, 2, -1, 4, -1, 0, 0]\n",
      "Memory =  [5, 7, 0, 0, 0, 2, -1, 4, -1, 0, 0]\n",
      "d =  1 , Memory =  [2, 7, 3, 7, 0, 2, -1, 4, -1, 0, 0]\n",
      "e =  3 , Memory =  [2, 7, 3, 7, 0, 2, -1, 4, -1, 0, 0]\n",
      "f =  8 , Memory =  [2, 7, 3, 7, 0, 2, -1, 4, -1, 0, 0]\n"
     ]
    }
   ],
   "source": [
    "# Works with first-fit but not with best-fit\n",
    "mm = HeapManager([0 for x in range(0, 11)])\n",
    "print(\"Memory = \", mm.memory)\n",
    "a = mm.allocate(4)\n",
    "print(\"a = \", a, \", Memory = \", mm.memory)\n",
    "b = mm.allocate(1)\n",
    "print(\"b = \", b, \", Memory = \", mm.memory)\n",
    "c = mm.allocate(3)\n",
    "print(\"c = \", c, \", Memory = \", mm.memory)\n",
    "mm.deallocate(c)\n",
    "print(\"Memory = \", mm.memory)\n",
    "mm.deallocate(a)\n",
    "print(\"Memory = \", mm.memory)\n",
    "d = mm.allocate(1)\n",
    "print(\"d = \", d, \", Memory = \", mm.memory)\n",
    "e = mm.allocate(2)\n",
    "print(\"e = \", e, \", Memory = \", mm.memory)\n",
    "f = mm.allocate(3)\n",
    "print(\"f = \", f, \", Memory = \", mm.memory)"
   ]
  },
  {
   "cell_type": "code",
   "execution_count": null,
   "metadata": {},
   "outputs": [],
   "source": [
    "# Works with first-fit but not with best-fit\n",
    "mm = HeapManager([0 for x in range(0, 11)])\n",
    "a = mm.allocate(4)\n",
    "b = mm.allocate(1)\n",
    "c = mm.allocate(3)\n",
    "mm.deallocate(c)\n",
    "mm.deallocate(a)\n",
    "d = mm.allocate(1)\n",
    "e = mm.allocate(2)\n",
    "f = mm.allocate(3)"
   ]
  },
  {
   "cell_type": "markdown",
   "metadata": {},
   "source": [
    "# Lista 16"
   ]
  },
  {
   "cell_type": "markdown",
   "metadata": {},
   "source": [
    "Given by the exercise"
   ]
  },
  {
   "cell_type": "code",
   "execution_count": 129,
   "metadata": {},
   "outputs": [],
   "source": [
    "class ConsCell:\n",
    "  def __init__(self, h, t):\n",
    "    \"\"\"Creates a new cell with head == h, and tail == t.\"\"\"\n",
    "    self.head = h\n",
    "    self.tail = t\n",
    "\n",
    "class List:\n",
    "\t\"\"\"Describes a simple list data type.\"\"\"\n",
    "\n",
    "\tdef __init__(self, n):\n",
    "\t\t\"\"\"creates a new list with n as the first element.\"\"\"\n",
    "\t\tself.start = n\n",
    "\n",
    "\tdef cons(self, e):\n",
    "\t\t\"\"\"Adds a new element into the list; hence, procuding a new list.\"\"\"\n",
    "\t\treturn List(ConsCell(e, self.start))\n",
    "\n",
    "\tdef length(self):\n",
    "\t\t\"\"\"Returns the number of elements in the list.\"\"\"\n",
    "\t\tlen = 0\n",
    "\t\tcell = self.start\n",
    "\t\twhile cell != 0:\n",
    "\t\t\tlen += 1\n",
    "\t\t\tcell = cell.tail\n",
    "\t\treturn len\n",
    "\n",
    "\t# 1-a) Add method contains\n",
    "\tdef contains(self, n):\n",
    "\t\tcell = self.start\n",
    "\t\twhile cell != 0:\n",
    "\t\t\tif cell.head == n:\n",
    "\t\t\t\treturn True\n",
    "\t\t\tcell = cell.tail\n",
    "\t\treturn False\n",
    "\n",
    "\t# 1-b) Add method equals\n",
    "\tdef equals(self, y):\n",
    "\t\tif self.length() != y.length():\n",
    "\t\t\treturn False\n",
    "\t\txCell = self.start\n",
    "\t\tyCell = y.start\n",
    "\t\twhile xCell != 0:\n",
    "\t\t\tif xCell.head != yCell.head:\n",
    "\t\t\t\treturn False\n",
    "\t\t\txCell = xCell.tail\n",
    "\t\t\tyCell = yCell.tail\n",
    "\t\treturn True\n",
    "\n",
    "\t# 1-c) Add method append\n",
    "\tdef append(self, y):\n",
    "\t\tw = List(0)\n",
    "\t\txCell = self.start\n",
    "\t\twhile xCell != 0:\n",
    "\t\t\tw = w.cons(xCell.head)\n",
    "\t\t\txCell = xCell.tail\n",
    "\t\twCell = w.start\n",
    "\t\twhile wCell != 0:\n",
    "\t\t\ty = y.cons(wCell.head)\n",
    "\t\t\twCell = wCell.tail\n",
    "\t\treturn y\n",
    "\n",
    "\t# 1-d) Add method reverse\n",
    "\tdef reverse(self):\n",
    "\t\tw = List(0)\n",
    "\t\txCell = self.start\n",
    "\t\twhile xCell != 0:\n",
    "\t\t\tw = w.cons(xCell.head)\n",
    "\t\t\txCell = xCell.tail\n",
    "\t\treturn w\n",
    "\n",
    "\t# Updated append method:\n",
    "\tdef append2(self, y):\n",
    "\t\tw = self.reverse()\n",
    "\t\twCell = w.start\n",
    "\t\twhile wCell != 0:\n",
    "\t\t\ty = y.cons(wCell.head)\n",
    "\t\t\twCell = wCell.tail\n",
    "\t\treturn y\n",
    "\n",
    "\t# 1-e) Add method reverseMe that does not return anything\n",
    "\tdef reverseMe(self):\n",
    "\t\tw = self.reverse()\n",
    "\t\tself.start = w.start\n",
    "\n",
    "\tdef reverseMeInPlace(self):\n",
    "\t\tw = self.start\n",
    "\t\tx = 0\n",
    "\t\twhile w != 0:\n",
    "\t\t\taux = w.tail # In list (1, (2, 3)), aux = (2, 3)\n",
    "\t\t\tw.tail = x # w = (1, 0)\n",
    "\t\t\tx = w # x = (1, 0)\n",
    "\t\t\tw = aux # w = (2, 3)\n",
    "\n",
    "\t\t\t# Second iteration, aux receives 3, w = (2, (1, 0)) and x = (2, (1, 0)), then w = 3, so that in the last iteration, x = (3, (2, (1, 0)))\n",
    "\n",
    "\t\tself.start = x\n",
    "\t\t\n",
    "\n",
    "\n",
    "\tdef __str__(self):\n",
    "\t\t\"\"\"Returns a textual representation of this list.\"\"\"\n",
    "\t\tans = \"[\"\n",
    "\t\tcell = self.start\n",
    "\t\twhile cell != 0:\n",
    "\t\t\tans = ans + repr(cell.head)\n",
    "\t\t\tcell = cell.tail\n",
    "\t\t\tif cell != 0:\n",
    "\t\t\t\tans = ans + \", \"\n",
    "\t\tans = ans + \"]\"\n",
    "\t\treturn ans\n"
   ]
  },
  {
   "cell_type": "code",
   "execution_count": 80,
   "metadata": {},
   "outputs": [],
   "source": [
    "def test(): # Already written tests\n",
    "\ta = List(0)\n",
    "\tb = a.cons(2)\n",
    "\tc = b.cons(\"Hi!\")\n",
    "\td = b.cons(True)\n",
    "\te = d.cons(False)\n",
    "\tprint (\"List a = \", a.__str__(), \" Length(a) = \", a.length())\n",
    "\tprint (\"List b = \", b.__str__(), \" Length(b) = \", b.length())\n",
    "\tprint (\"List c = \", c.__str__(), \" Length(c) = \", c.length())\n",
    "\tprint (\"List d = \", d.__str__(), \" Length(d) = \", d.length())\n",
    "\tprint (\"List e = \", e.__str__(), \" Length(e) = \", e.length())"
   ]
  },
  {
   "cell_type": "code",
   "execution_count": 81,
   "metadata": {},
   "outputs": [
    {
     "name": "stdout",
     "output_type": "stream",
     "text": [
      "List a =  []  Length(a) =  0\n",
      "List b =  [2]  Length(b) =  1\n",
      "List c =  ['Hi!', 2]  Length(c) =  2\n",
      "List d =  [True, 2]  Length(d) =  2\n",
      "List e =  [False, True, 2]  Length(e) =  3\n"
     ]
    }
   ],
   "source": [
    "test()"
   ]
  },
  {
   "cell_type": "code",
   "execution_count": 127,
   "metadata": {},
   "outputs": [],
   "source": [
    "def test2():\n",
    "\ta = List(0)\n",
    "\tb = a.cons(2)\n",
    "\tc = b.cons(\"Hi!\")\n",
    "\td = b.cons(True)\n",
    "\te = d.cons(False)\n",
    "\tf = c\n",
    "\tprint(b.contains(2))\n",
    "\tprint(c.equals(f), c.equals(d))\n",
    "\tprint(e.append(c).__str__())\n",
    "\tprint(e.reverse().__str__())\n",
    "\tprint(e.append2(c).__str__())\n",
    "\te.reverseMe()\n",
    "\te.reverseMeInPlace()\n",
    "\tprint(e.__str__())"
   ]
  },
  {
   "cell_type": "code",
   "execution_count": 130,
   "metadata": {},
   "outputs": [
    {
     "name": "stdout",
     "output_type": "stream",
     "text": [
      "True\n",
      "True False\n",
      "[False, True, 2, 'Hi!', 2]\n",
      "[2, True, False]\n",
      "[False, True, 2, 'Hi!', 2]\n",
      "[False, True, 2]\n"
     ]
    }
   ],
   "source": [
    "test2()"
   ]
  }
 ],
 "metadata": {
  "kernelspec": {
   "display_name": "Python 3",
   "language": "python",
   "name": "python3"
  },
  "language_info": {
   "codemirror_mode": {
    "name": "ipython",
    "version": 3
   },
   "file_extension": ".py",
   "mimetype": "text/x-python",
   "name": "python",
   "nbconvert_exporter": "python",
   "pygments_lexer": "ipython3",
   "version": "3.8.10"
  }
 },
 "nbformat": 4,
 "nbformat_minor": 2
}
