{
 "cells": [
  {
   "cell_type": "markdown",
   "metadata": {},
   "source": [
    "# Lista 14"
   ]
  },
  {
   "cell_type": "code",
   "execution_count": 13,
   "metadata": {},
   "outputs": [],
   "source": [
    "import time\n",
    "import matplotlib.pyplot as plt"
   ]
  },
  {
   "cell_type": "code",
   "execution_count": 14,
   "metadata": {},
   "outputs": [],
   "source": [
    "def sievePrimes0(candidates):\n",
    "\tfor i in range(0, int(len(candidates) ** 0.5 + 1)):\n",
    "\t\tcurrentPrime = candidates[i]\n",
    "\t\tif currentPrime != 0:\n",
    "\t\t\tfor j in range(i + currentPrime, len(candidates), currentPrime):\n",
    "\t\t\t\tif candidates[j] % candidates[i] == 0:\n",
    "\t\t\t\t\tcandidates[j] = 0\n",
    "\treturn filter(lambda x : x != 0, candidates)\n",
    "\n",
    "def sievePrimes1(l):\n",
    "\tif l[0] * l[0] <= l[len(l) - 1]:\n",
    "\t\tl[1:] = sievePrimes1(list(filter(lambda x: x % l[0] != 0, l)))\n",
    "\treturn l"
   ]
  },
  {
   "cell_type": "code",
   "execution_count": 15,
   "metadata": {},
   "outputs": [],
   "source": [
    "def timeSieve(maxPrime, numTimes, sieveFunc):\n",
    "\tt0 = 0\n",
    "\tfor numTries in range(0, numTimes):\n",
    "\t\ttaux = time.time()\n",
    "\t\tprimes0 = sieveFunc(list(range(2, maxPrime)))\n",
    "\t\tt0 = t0 + time.time() - taux\n",
    "\tttime = t0 / numTimes\n",
    "\treturn ttime"
   ]
  },
  {
   "cell_type": "code",
   "execution_count": 16,
   "metadata": {},
   "outputs": [],
   "source": [
    "def plotSieves():\n",
    "\tx = [10, 50, 100, 500, 1000, 5000, 10000, 50000, 100000, 500000]\n",
    "\ty0 = []\n",
    "\ty1 = []\n",
    "\tfor maxPrime in x:\n",
    "\t\ty0.append(timeSieve(maxPrime, 5, sievePrimes0))\n",
    "\t\ty1.append(timeSieve(maxPrime, 5, sievePrimes1))\n",
    "\tprint (\"y0: \", y0)\n",
    "\tprint (\"y1: \", y1)\n",
    "\tplt.plot(x, y0, 'r', x, y1, 'b')\n",
    "\tplt.show()\n"
   ]
  },
  {
   "cell_type": "code",
   "execution_count": 17,
   "metadata": {},
   "outputs": [
    {
     "name": "stdout",
     "output_type": "stream",
     "text": [
      "y0:  [5.865097045898438e-06, 1.02996826171875e-05, 1.8548965454101562e-05, 0.00011487007141113282, 0.00022788047790527343, 0.0012544155120849609, 0.002776432037353516, 0.019596624374389648, 0.036425304412841794, 0.15687661170959472]\n",
      "y1:  [6.4373016357421875e-06, 2.6273727416992188e-05, 3.662109375e-05, 0.00024061203002929689, 0.0006011486053466797, 0.003537607192993164, 0.00813593864440918, 0.0957643985748291, 0.16410326957702637, 1.293116283416748]\n"
     ]
    },
    {
     "data": {
      "image/png": "[encoded data removed]",
      "text/plain": [
       "<Figure size 640x480 with 1 Axes>"
      ]
     },
     "metadata": {},
     "output_type": "display_data"
    }
   ],
   "source": [
    "plotSieves()"
   ]
  },
  {
   "cell_type": "code",
   "execution_count": 18,
   "metadata": {},
   "outputs": [],
   "source": [
    "def testPrimes():\n",
    "\tnumTimes = int(input())\n",
    "\tfor numTries in range(0, numTimes):\n",
    "\t\tmaxPrime = int(input())\n",
    "\t\tsievePrimes0(list(range(2, maxPrime)))\n",
    "\t\tsievePrimes1(list(range(2, maxPrime)))\n",
    "\n",
    "testPrimes()"
   ]
  },
  {
   "cell_type": "code",
   "execution_count": 19,
   "metadata": {},
   "outputs": [
    {
     "name": "stdout",
     "output_type": "stream",
     "text": [
      "b\n",
      "[2]\n"
     ]
    }
   ],
   "source": [
    "def mystery(limit):\n",
    "\tnums = []\n",
    "\tfor n in range(2, limit):\n",
    "\t\tfor x in range(2, n):\n",
    "\t\t\tif n % x == 0:\n",
    "\t\t\t\tprint(\"a\")\n",
    "\t\t\t\tbreak\n",
    "\t\telse:\n",
    "\t\t\tprint(\"b\")\n",
    "\t\t\tnums.append(n)\n",
    "\treturn nums\n",
    "\n",
    "print (mystery(3))"
   ]
  },
  {
   "cell_type": "code",
   "execution_count": 20,
   "metadata": {},
   "outputs": [],
   "source": [
    "def pydiv(n, d):\n",
    "\tif d != 0:\n",
    "\t\treturn n / d"
   ]
  },
  {
   "cell_type": "code",
   "execution_count": 21,
   "metadata": {},
   "outputs": [
    {
     "name": "stdout",
     "output_type": "stream",
     "text": [
      "None\n",
      "1.0\n"
     ]
    }
   ],
   "source": [
    "x = pydiv(1, 0)\n",
    "print (x)\n",
    "y = pydiv(1, 1)\n",
    "print (y)"
   ]
  },
  {
   "cell_type": "markdown",
   "metadata": {},
   "source": [
    "Both cells below have the same functionality, but the first one is more readable and the second one is more compact."
   ]
  },
  {
   "cell_type": "code",
   "execution_count": 22,
   "metadata": {},
   "outputs": [],
   "source": [
    "def perm(n, l):\n",
    "\tperml = []\n",
    "\tif len(l) == 1:\n",
    "\t\treturn [l]\n",
    "\telse:\n",
    "\t\tif len(l) != n:\n",
    "\t\t\tfor i in range(0, len(l)):\n",
    "\t\t\t\tauxl = l.copy()\n",
    "\t\t\t\tauxl.remove(auxl[i])\n",
    "\t\t\t\taux = perm(n, auxl)\n",
    "\t\t\t\tfor j in aux:\n",
    "\t\t\t\t\tif j not in perml:\n",
    "\t\t\t\t\t\tperml.append(j)\n",
    "\t\telse:\n",
    "\t\t\tfor i in range(0, len(l)):\n",
    "\t\t\t\tauxl = l.copy()\n",
    "\t\t\t\tauxl.remove(auxl[i])\n",
    "\t\t\t\taux = perm(n - 1, auxl)\n",
    "\t\t\t\tfor j in aux:\n",
    "\t\t\t\t\tif [l[i]] + j not in perml:\n",
    "\t\t\t\t\t\tperml.append([l[i]] + j)\n",
    "\n",
    "\treturn perml"
   ]
  },
  {
   "cell_type": "code",
   "execution_count": 23,
   "metadata": {},
   "outputs": [],
   "source": [
    "def perm(n, l):\n",
    "\tperml = []\n",
    "\tif len(l) == 1:\n",
    "\t\treturn [l]\n",
    "\tfor i in range(0, len(l)):\n",
    "\t\tauxl = l.copy()\n",
    "\t\tauxl.remove(auxl[i])\n",
    "\t\tnn = n\n",
    "\t\tif len(l) == n:\n",
    "\t\t\tnn -= 1\n",
    "\t\tp = perm(nn, auxl)\n",
    "\t\tfor j in p:\n",
    "\t\t\taux = j\n",
    "\t\t\tif len(l) == n:\n",
    "\t\t\t\taux = [l[i]] + aux\n",
    "\t\t\tif aux not in perml:\n",
    "\t\t\t\tperml.append(aux)\n",
    "\treturn perml"
   ]
  },
  {
   "cell_type": "code",
   "execution_count": 24,
   "metadata": {},
   "outputs": [
    {
     "data": {
      "text/plain": [
       "[['d', 'e'],\n",
       " ['e', 'd'],\n",
       " ['c', 'e'],\n",
       " ['e', 'c'],\n",
       " ['c', 'd'],\n",
       " ['d', 'c'],\n",
       " ['b', 'e'],\n",
       " ['e', 'b'],\n",
       " ['b', 'd'],\n",
       " ['d', 'b'],\n",
       " ['b', 'c'],\n",
       " ['c', 'b'],\n",
       " ['a', 'e'],\n",
       " ['e', 'a'],\n",
       " ['a', 'd'],\n",
       " ['d', 'a'],\n",
       " ['a', 'c'],\n",
       " ['c', 'a'],\n",
       " ['a', 'b'],\n",
       " ['b', 'a']]"
      ]
     },
     "execution_count": 24,
     "metadata": {},
     "output_type": "execute_result"
    }
   ],
   "source": [
    "x = perm(2, ['a', 'b', 'c', 'd', 'e'])\n",
    "x"
   ]
  },
  {
   "cell_type": "code",
   "execution_count": 25,
   "metadata": {},
   "outputs": [],
   "source": [
    "def getStringList(i):\n",
    "\tl = list(map(str, str(i)))\n",
    "\twhile len(l) != 4:\n",
    "\t\tl = ['0'] + l\n",
    "\treturn l"
   ]
  },
  {
   "cell_type": "code",
   "execution_count": 26,
   "metadata": {},
   "outputs": [],
   "source": [
    "def distinctDigits(l):\n",
    "\tfor i in range(0, len(l)):\n",
    "\t\tfor j in range(i + 1, len(l)):\n",
    "\t\t\tif l[i] == l[j]:\n",
    "\t\t\t\treturn False\n",
    "\treturn True\n",
    "\t"
   ]
  },
  {
   "cell_type": "code",
   "execution_count": 27,
   "metadata": {},
   "outputs": [],
   "source": [
    "def getPrimePermutations(perml, primes):\n",
    "\tprimePerm = []\n",
    "\tfor i in range(len(perml) - 1, -1, -1):\n",
    "\t\tnumStr = ''\n",
    "\t\tfor j in range(0, len(perml[i])):\n",
    "\t\t\tnumStr += perml[i][j]\n",
    "\t\tnum = int(numStr)\n",
    "\t\tif num in primes:\n",
    "\t\t\tprimePerm.append(num)\n",
    "\treturn primePerm"
   ]
  },
  {
   "cell_type": "code",
   "execution_count": 28,
   "metadata": {},
   "outputs": [],
   "source": [
    "def findAP(primePerm):\n",
    "\tfor i in range(0, len(primePerm)):\n",
    "\t\tfor j in range(i + 1, len(primePerm)):\n",
    "\t\t\tfor k in range(j + 1, len(primePerm)):\n",
    "\t\t\t\tif abs(primePerm[j] - primePerm[i]) == abs(primePerm[k] - primePerm[j]):\n",
    "\t\t\t\t\treturn [primePerm[i], primePerm[j], primePerm[k]]\n",
    "\treturn []"
   ]
  },
  {
   "cell_type": "code",
   "execution_count": 29,
   "metadata": {},
   "outputs": [],
   "source": [
    "def isInList(n, l):\n",
    "\tfor i in l:\n",
    "\t\tif n in i:\n",
    "\t\t\treturn True\n",
    "\treturn False"
   ]
  },
  {
   "cell_type": "code",
   "execution_count": 30,
   "metadata": {},
   "outputs": [],
   "source": [
    "def findSequences():\n",
    "\tsequences = []\n",
    "\tprimes = sievePrimes1(list(range(2, 10000)))\n",
    "\tfor p in primes:\n",
    "\t\tl = getStringList(p)\n",
    "\t\tif not distinctDigits(l):\n",
    "\t\t\tcontinue\n",
    "\t\tperml = perm(4, l)\n",
    "\t\tprimePerm = getPrimePermutations(perml, primes)\n",
    "\t\tapPerm = findAP(primePerm)\n",
    "\t\tif len(apPerm) > 0:\n",
    "\t\t\tif not isInList(apPerm[0], sequences):\n",
    "\t\t\t\tsequences.append(apPerm)\n",
    "\treturn sequences\n"
   ]
  },
  {
   "cell_type": "code",
   "execution_count": 31,
   "metadata": {},
   "outputs": [
    {
     "data": {
      "text/plain": [
       "[[1063, 613, 163], [7039, 3709, 379], [8147, 4817, 1487]]"
      ]
     },
     "execution_count": 31,
     "metadata": {},
     "output_type": "execute_result"
    }
   ],
   "source": [
    "findSequences()"
   ]
  },
  {
   "cell_type": "markdown",
   "metadata": {},
   "source": [
    "# Lista 15"
   ]
  },
  {
   "cell_type": "markdown",
   "metadata": {},
   "source": [
    "First-Fit"
   ]
  },
  {
   "cell_type": "markdown",
   "metadata": {},
   "source": [
    "Given by the exercise"
   ]
  },
  {
   "cell_type": "code",
   "execution_count": 37,
   "metadata": {},
   "outputs": [],
   "source": [
    "NULL = -1 # The null link\n",
    "\n",
    "class HeapManager:\n",
    "  \"\"\"Implements a very simple heap manager.\"\"\"\n",
    "\n",
    "  def __init__(self, initialMemory):\n",
    "    \"\"\"Constructor. Parameter initialMemory is the array of data that we will\n",
    "       use to represent the memory.\"\"\"\n",
    "    self.memory = initialMemory\n",
    "    self.memory[0] = self.memory.__len__()\n",
    "    self.memory[1] = NULL\n",
    "    self.freeStart = 0\n",
    "\n",
    "\n",
    "  def allocate(self, requestSize):\n",
    "    \"\"\"Allocates a block of data, and return its address. The parameter\n",
    "       requestSize is the amount of space that must be allocaed.\"\"\"\n",
    "    size = requestSize + 1\n",
    "    # Do first-fit search: linear search of the free list for the first block\n",
    "    # of sufficient size.\n",
    "    p = self.freeStart\n",
    "    lag = NULL\n",
    "    while p != NULL and self.memory[p] < size:\n",
    "      lag = p\n",
    "      p = self.memory[p + 1]\n",
    "    if p == NULL:\n",
    "      raise MemoryError()\n",
    "    nextFree = self.memory[p + 1]\n",
    "    # Now p is the index of a block of sufficient size,\n",
    "    # lag is the index of p's predecessor in the\n",
    "    # free list, or NULL, and nextFree is the index of\n",
    "    # p's successor in the free list, or NULL.\n",
    "    # If the block has more space than we need, carve\n",
    "    # out what we need from the front and return the\n",
    "    # unused end part to the free list.\n",
    "    unused = self.memory[p] - size\n",
    "    if unused > 1:\n",
    "      nextFree = p + size\n",
    "      self.memory[nextFree] = unused\n",
    "      self.memory[nextFree + 1] = self.memory[p + 1]\n",
    "      self.memory[p] = size\n",
    "    if lag == NULL:\n",
    "      self.freeStart = nextFree\n",
    "    else:\n",
    "      self.memory[lag + 1] = nextFree\n",
    "    return p + 1\n",
    "\n",
    "  def deallocate(self, address):\n",
    "    \"\"\"Deallocates the block of data that starts at address. This works only\n",
    "       if the block address is one that was returned by allocate and has not\n",
    "       yet been deallocated.\"\"\"\n",
    "    addr = address - 1\n",
    "    self.memory[addr + 1] = self.freeStart\n",
    "    self.freeStart = addr"
   ]
  },
  {
   "cell_type": "code",
   "execution_count": 33,
   "metadata": {},
   "outputs": [
    {
     "name": "stdout",
     "output_type": "stream",
     "text": [
      "Memory =  [10, -1, 0, 0, 0, 0, 0, 0, 0, 0]\n",
      "a =  1 , Memory =  [5, -1, 0, 0, 0, 5, -1, 0, 0, 0]\n",
      "b =  6 , Memory =  [5, -1, 0, 0, 0, 2, -1, 3, -1, 0]\n",
      "c =  1 , Memory =  [3, 7, 0, 2, 7, 2, -1, 3, -1, 0]\n"
     ]
    }
   ],
   "source": [
    "def test():\n",
    "  h = HeapManager([0 for x in range(0, 10)])\n",
    "  print(\"Memory = \", h.memory)\n",
    "  a = h.allocate(4)\n",
    "  print(\"a = \", a, \", Memory = \", h.memory)\n",
    "  b = h.allocate(1)\n",
    "  print(\"b = \", b, \", Memory = \", h.memory)\n",
    "  h.deallocate(a)\n",
    "  c = h.allocate(2)\n",
    "  print(\"c = \", c, \", Memory = \", h.memory)\n",
    "\n",
    "test()"
   ]
  },
  {
   "cell_type": "markdown",
   "metadata": {},
   "source": [
    "Best-Fit"
   ]
  },
  {
   "cell_type": "code",
   "execution_count": 34,
   "metadata": {},
   "outputs": [],
   "source": [
    "NULL = -1 # The null link\n",
    "\n",
    "class HeapManager:\n",
    "  \"\"\"Implements a very simple heap manager.\"\"\"\n",
    "\n",
    "  def __init__(self, initialMemory):\n",
    "    \"\"\"Constructor. Parameter initialMemory is the array of data that we will\n",
    "       use to represent the memory.\"\"\"\n",
    "    self.memory = initialMemory\n",
    "    self.memory[0] = self.memory.__len__()\n",
    "    self.memory[1] = NULL\n",
    "    self.freeStart = 0\n",
    "\n",
    "\n",
    "  def allocate(self, requestSize):\n",
    "    \"\"\"Allocates a block of data, and return its address. The parameter\n",
    "       requestSize is the amount of space that must be allocaed.\"\"\"\n",
    "    size = requestSize + 1\n",
    "    # Do first-fit search: linear search of the free list for the first block\n",
    "    # of sufficient size.\n",
    "    p = self.freeStart\n",
    "    lag = NULL\n",
    "\n",
    "    pArray = []\n",
    "    while p != NULL:\n",
    "      lag = p\n",
    "      pArray.append(p)\n",
    "      p = self.memory[p + 1]\n",
    "    if len(pArray) == 0:\n",
    "      raise MemoryError()\n",
    "    bestLag = NULL\n",
    "    bestP = pArray[0]\n",
    "    bestFree = 0\n",
    "    for i in range(1, len(pArray)):\n",
    "      bestFree = self.memory[bestP] - size\n",
    "      if bestFree == 0:\n",
    "        break\n",
    "      if bestFree < 0:\n",
    "        bestP = pArray[i]\n",
    "        bestLag = pArray[i - 1]\n",
    "        bestFree = self.memory[bestP] - size\n",
    "        continue\n",
    "      iFree = self.memory[pArray[i]] - size\n",
    "      if iFree < 0:\n",
    "        continue\n",
    "      if bestFree > iFree:\n",
    "        bestP = pArray[i]\n",
    "        bestLag = pArray[i - 1]\n",
    "    if bestFree < 0:\n",
    "      raise MemoryError()\n",
    "    p = bestP\n",
    "    lag = bestLag\n",
    "\t\n",
    "    nextFree = self.memory[p + 1]\n",
    "    # Now p is the index of a block of sufficient size,\n",
    "    # lag is the index of p's predecessor in the\n",
    "    # free list, or NULL, and nextFree is the index of\n",
    "    # p's successor in the free list, or NULL.\n",
    "    # If the block has more space than we need, carve\n",
    "    # out what we need from the front and return the\n",
    "    # unused end part to the free list.\n",
    "    unused = self.memory[p] - size\n",
    "    if unused > 1:\n",
    "      nextFree = p + size\n",
    "      self.memory[nextFree] = unused\n",
    "      self.memory[nextFree + 1] = self.memory[p + 1]\n",
    "      self.memory[p] = size\n",
    "    if lag == NULL:\n",
    "      self.freeStart = nextFree\n",
    "    else:\n",
    "      self.memory[lag + 1] = nextFree\n",
    "    return p + 1\n",
    "\n",
    "  def deallocate(self, address):\n",
    "      \"\"\"Deallocates the block of data that starts at address. This works only\n",
    "      if the block address is one that was returned by allocate and has not\n",
    "      yet been deallocated.\"\"\"\n",
    "      addr = address - 1\n",
    "      self.memory[addr + 1] = self.freeStart\n",
    "      self.freeStart = addr"
   ]
  },
  {
   "cell_type": "code",
   "execution_count": 38,
   "metadata": {},
   "outputs": [
    {
     "name": "stdout",
     "output_type": "stream",
     "text": [
      "Memory =  [11, -1, 0, 0, 0, 0, 0, 0, 0, 0, 0]\n",
      "a =  1 , Memory =  [5, -1, 0, 0, 0, 6, -1, 0, 0, 0, 0]\n",
      "b =  6 , Memory =  [5, -1, 0, 0, 0, 2, -1, 4, -1, 0, 0]\n",
      "c =  8 , Memory =  [5, -1, 0, 0, 0, 2, -1, 4, -1, 0, 0]\n",
      "Memory =  [5, -1, 0, 0, 0, 2, -1, 4, -1, 0, 0]\n",
      "Memory =  [5, 7, 0, 0, 0, 2, -1, 4, -1, 0, 0]\n",
      "d =  1 , Memory =  [2, 7, 3, 7, 0, 2, -1, 4, -1, 0, 0]\n",
      "e =  3 , Memory =  [2, 7, 3, 7, 0, 2, -1, 4, -1, 0, 0]\n",
      "f =  8 , Memory =  [2, 7, 3, 7, 0, 2, -1, 4, -1, 0, 0]\n"
     ]
    }
   ],
   "source": [
    "# Works with first-fit but not with best-fit\n",
    "mm = HeapManager([0 for x in range(0, 11)])\n",
    "print(\"Memory = \", mm.memory)\n",
    "a = mm.allocate(4)\n",
    "print(\"a = \", a, \", Memory = \", mm.memory)\n",
    "b = mm.allocate(1)\n",
    "print(\"b = \", b, \", Memory = \", mm.memory)\n",
    "c = mm.allocate(3)\n",
    "print(\"c = \", c, \", Memory = \", mm.memory)\n",
    "mm.deallocate(c)\n",
    "print(\"Memory = \", mm.memory)\n",
    "mm.deallocate(a)\n",
    "print(\"Memory = \", mm.memory)\n",
    "d = mm.allocate(1)\n",
    "print(\"d = \", d, \", Memory = \", mm.memory)\n",
    "e = mm.allocate(2)\n",
    "print(\"e = \", e, \", Memory = \", mm.memory)\n",
    "f = mm.allocate(3)\n",
    "print(\"f = \", f, \", Memory = \", mm.memory)"
   ]
  },
  {
   "cell_type": "code",
   "execution_count": 39,
   "metadata": {},
   "outputs": [],
   "source": [
    "# Works with first-fit but not with best-fit\n",
    "mm = HeapManager([0 for x in range(0, 11)])\n",
    "a = mm.allocate(4)\n",
    "b = mm.allocate(1)\n",
    "c = mm.allocate(3)\n",
    "mm.deallocate(c)\n",
    "mm.deallocate(a)\n",
    "d = mm.allocate(1)\n",
    "e = mm.allocate(2)\n",
    "f = mm.allocate(3)"
   ]
  },
  {
   "cell_type": "markdown",
   "metadata": {},
   "source": [
    "# Lista 16"
   ]
  },
  {
   "cell_type": "markdown",
   "metadata": {},
   "source": [
    "Given by the exercise"
   ]
  },
  {
   "cell_type": "code",
   "execution_count": 8,
   "metadata": {},
   "outputs": [],
   "source": [
    "class ConsCell:\n",
    "  def __init__(self, h, t):\n",
    "    \"\"\"Creates a new cell with head == h, and tail == t.\"\"\"\n",
    "    self.head = h\n",
    "    self.tail = t\n",
    "\n",
    "class List:\n",
    "\t\"\"\"Describes a simple list data type.\"\"\"\n",
    "\n",
    "\tdef __init__(self, n):\n",
    "\t\t\"\"\"creates a new list with n as the first element.\"\"\"\n",
    "\t\tself.start = n\n",
    "\n",
    "\tdef cons(self, e):\n",
    "\t\t\"\"\"Adds a new element into the list; hence, procuding a new list.\"\"\"\n",
    "\t\treturn List(ConsCell(e, self.start))\n",
    "\n",
    "\tdef length(self):\n",
    "\t\t\"\"\"Returns the number of elements in the list.\"\"\"\n",
    "\t\tlen = 0\n",
    "\t\tcell = self.start\n",
    "\t\twhile cell != 0:\n",
    "\t\t\tlen += 1\n",
    "\t\t\tcell = cell.tail\n",
    "\t\treturn len\n",
    "\n",
    "\t# 1-a) Add method contains\n",
    "\tdef contains(self, n):\n",
    "\t\tcell = self.start\n",
    "\t\twhile cell != 0:\n",
    "\t\t\tif cell.head == n:\n",
    "\t\t\t\treturn True\n",
    "\t\t\tcell = cell.tail\n",
    "\t\treturn False\n",
    "\n",
    "\t# 1-b) Add method equals\n",
    "\tdef equals(self, y):\n",
    "\t\tif self.length() != y.length():\n",
    "\t\t\treturn False\n",
    "\t\txCell = self.start\n",
    "\t\tyCell = y.start\n",
    "\t\twhile xCell != 0:\n",
    "\t\t\tif xCell.head != yCell.head:\n",
    "\t\t\t\treturn False\n",
    "\t\t\txCell = xCell.tail\n",
    "\t\t\tyCell = yCell.tail\n",
    "\t\treturn True\n",
    "\n",
    "\t# 1-c) Add method append\n",
    "\tdef append(self, y):\n",
    "\t\tw = List(0)\n",
    "\t\txCell = self.start\n",
    "\t\twhile xCell != 0:\n",
    "\t\t\tw = w.cons(xCell.head)\n",
    "\t\t\txCell = xCell.tail\n",
    "\t\twCell = w.start\n",
    "\t\twhile wCell != 0:\n",
    "\t\t\ty = y.cons(wCell.head)\n",
    "\t\t\twCell = wCell.tail\n",
    "\t\treturn y\n",
    "\n",
    "\t# 1-d) Add method reverse\n",
    "\tdef reverse(self):\n",
    "\t\tw = List(0)\n",
    "\t\txCell = self.start\n",
    "\t\twhile xCell != 0:\n",
    "\t\t\tw = w.cons(xCell.head)\n",
    "\t\t\txCell = xCell.tail\n",
    "\t\treturn w\n",
    "\n",
    "\t# Updated append method:\n",
    "\tdef append2(self, y):\n",
    "\t\tw = self.reverse()\n",
    "\t\twCell = w.start\n",
    "\t\twhile wCell != 0:\n",
    "\t\t\ty = y.cons(wCell.head)\n",
    "\t\t\twCell = wCell.tail\n",
    "\t\treturn y\n",
    "\n",
    "\t# 1-e) Add method reverseMe that does not return anything\n",
    "\tdef reverseMe(self):\n",
    "\t\tw = self.reverse()\n",
    "\t\tself.start = w.start\n",
    "\n",
    "\tdef reverseMeInPlace(self):\n",
    "\t\tw = self.start\n",
    "\t\tx = 0\n",
    "\t\twhile w != 0:\n",
    "\t\t\taux = w.tail # In list (1, (2, 3)), aux = (2, 3)\n",
    "\t\t\tw.tail = x # w = (1, 0)\n",
    "\t\t\tx = w # x = (1, 0)\n",
    "\t\t\tw = aux # w = (2, 3)\n",
    "\n",
    "\t\t\t# Second iteration, aux receives 3, w = (2, (1, 0)) and x = (2, (1, 0)), then w = 3, so that in the last iteration, x = (3, (2, (1, 0)))\n",
    "\n",
    "\t\tself.start = x\n",
    "\n",
    "\t# 1-f) Add method sort, passing the comparison function as a parameter\n",
    "\tdef sort(self, f):\n",
    "\t\tx = self.start\n",
    "\t\tfor i in range(0, self.length()):\n",
    "\t\t\tw = List(0)\n",
    "\t\t\taux = x.tail\n",
    "\t\t\twhile x != 0:\n",
    "\t\t\t\tif type(aux) != int:\n",
    "\t\t\t\t\tif f(aux.head, x.head):\n",
    "\t\t\t\t\t\tw = w.cons(aux.head) # Creating the list in reverse\n",
    "\t\t\t\t\t\taux = aux.tail\n",
    "\t\t\t\t\telse:\n",
    "\t\t\t\t\t\tw = w.cons(x.head)\n",
    "\t\t\t\t\t\tx = aux\n",
    "\t\t\t\t\t\taux = x.tail\n",
    "\t\t\t\telse:\n",
    "\t\t\t\t\tw = w.cons(x.head)\n",
    "\t\t\t\t\tx = aux\n",
    "\t\t\tx = w.reverse().start\n",
    "\t\treturn List(x)\n",
    "\n",
    "\t# 1-g) Add method sortMe, that sorts in place without creating new ConsCells\n",
    "\tdef sortMe(self, f):\n",
    "\t\tfor i in range(0, self.length()):\n",
    "\t\t\tw = self.start\n",
    "\t\t\tx = 0\n",
    "\t\t\twhile w != 0:\n",
    "\t\t\t\taux = w.tail\n",
    "\t\t\t\tw.tail = x\n",
    "\t\t\t\tif type(aux) != int:\n",
    "\t\t\t\t\tif f(aux.head, w.head):\n",
    "\t\t\t\t\t\taux2 = w.head\n",
    "\t\t\t\t\t\tw.head = aux.head\n",
    "\t\t\t\t\t\taux.head = aux2\n",
    "\t\t\t\tx = w\n",
    "\t\t\t\tw = aux\n",
    "\t\t\tself.start = x\n",
    "\t\t\tself.reverseMeInPlace()\n",
    "\t\t\t\n",
    "\t# 1-h) Add recursive append, in more of a functional style\n",
    "\tdef rAppend(self, y):\n",
    "\t\tif self.start == 0:\n",
    "\t\t\treturn y\n",
    "\t\telse:\n",
    "\t\t\treturn List(self.start.tail).rAppend(y).cons(self.start.head)\n",
    "\t\n",
    "\n",
    "\t\n",
    "\n",
    "\n",
    "\tdef __str__(self):\n",
    "\t\t\"\"\"Returns a textual representation of this list.\"\"\"\n",
    "\t\tans = \"[\"\n",
    "\t\tcell = self.start\n",
    "\t\twhile cell != 0:\n",
    "\t\t\tans = ans + repr(cell.head)\n",
    "\t\t\tcell = cell.tail\n",
    "\t\t\tif cell != 0:\n",
    "\t\t\t\tans = ans + \", \"\n",
    "\t\tans = ans + \"]\"\n",
    "\t\treturn ans\n"
   ]
  },
  {
   "cell_type": "code",
   "execution_count": 41,
   "metadata": {},
   "outputs": [],
   "source": [
    "def test(): # Already written tests\n",
    "\ta = List(0)\n",
    "\tb = a.cons(2)\n",
    "\tc = b.cons(\"Hi!\")\n",
    "\td = b.cons(True)\n",
    "\te = d.cons(False)\n",
    "\tprint (\"List a = \", a.__str__(), \" Length(a) = \", a.length())\n",
    "\tprint (\"List b = \", b.__str__(), \" Length(b) = \", b.length())\n",
    "\tprint (\"List c = \", c.__str__(), \" Length(c) = \", c.length())\n",
    "\tprint (\"List d = \", d.__str__(), \" Length(d) = \", d.length())\n",
    "\tprint (\"List e = \", e.__str__(), \" Length(e) = \", e.length())"
   ]
  },
  {
   "cell_type": "code",
   "execution_count": 42,
   "metadata": {},
   "outputs": [
    {
     "name": "stdout",
     "output_type": "stream",
     "text": [
      "List a =  []  Length(a) =  0\n",
      "List b =  [2]  Length(b) =  1\n",
      "List c =  ['Hi!', 2]  Length(c) =  2\n",
      "List d =  [True, 2]  Length(d) =  2\n",
      "List e =  [False, True, 2]  Length(e) =  3\n"
     ]
    }
   ],
   "source": [
    "test()"
   ]
  },
  {
   "cell_type": "code",
   "execution_count": 2,
   "metadata": {},
   "outputs": [],
   "source": [
    "def test2():\n",
    "\ta = List(0)\n",
    "\tb = a.cons(2)\n",
    "\tc = b.cons(\"Hi!\")\n",
    "\td = b.cons(True)\n",
    "\te = d.cons(False)\n",
    "\tf = c\n",
    "\tprint(b.contains(2))\n",
    "\tprint(c.equals(f), c.equals(d))\n",
    "\tprint(e.append(c).__str__())\n",
    "\tprint(e.reverse().__str__())\n",
    "\tprint(e.append2(c).__str__())\n",
    "\te.reverseMe()\n",
    "\te.reverseMeInPlace()\n",
    "\tprint(e.__str__())\n",
    "\tg = List(0)\n",
    "\tg = g.cons(3)\n",
    "\tg = g.cons(1)\n",
    "\tg = g.cons(5)\n",
    "\tg = g.cons(7)\n",
    "\tg = g.cons(2)\n",
    "\t# g = g.cons(4)\n",
    "\tprint(g.__str__())\n",
    "\t# g.sortMe(lambda x, y: x < y)\n",
    "\t# print(g.__str__())\n",
    "\tprint(g.sort(lambda x, y: x < y).__str__())\n",
    "\t\n",
    "\t# Create list h = [2, 5, 6, 1, 9, 21, 52, 11, 13]\n",
    "\th = List(0)\n",
    "\th = h.cons(13)\n",
    "\th = h.cons(11)\n",
    "\th = h.cons(52)\n",
    "\th = h.cons(21)\n",
    "\th = h.cons(9)\n",
    "\th = h.cons(1)\n",
    "\th = h.cons(6)\n",
    "\th = h.cons(5)\n",
    "\th = h.cons(2)\n",
    "\tprint(h.__str__())\n",
    "\t# h.sortMe(lambda x, y: x > y)\n",
    "\t# print(h.__str__())\n",
    "\tprint(h.sort(lambda x, y: x > y).__str__())\n",
    "\n",
    "\tprint(h.rAppend(g).__str__())"
   ]
  },
  {
   "cell_type": "code",
   "execution_count": 9,
   "metadata": {},
   "outputs": [
    {
     "name": "stdout",
     "output_type": "stream",
     "text": [
      "True\n",
      "True False\n",
      "[False, True, 2, 'Hi!', 2]\n",
      "[2, True, False]\n",
      "[False, True, 2, 'Hi!', 2]\n",
      "[False, True, 2]\n",
      "[2, 7, 5, 1, 3]\n",
      "[1, 2, 3, 5, 7]\n",
      "[2, 5, 6, 1, 9, 21, 52, 11, 13]\n",
      "[52, 21, 13, 11, 9, 6, 5, 2, 1]\n",
      "[2, 5, 6, 1, 9, 21, 52, 11, 13, 2, 7, 5, 1, 3]\n"
     ]
    }
   ],
   "source": [
    "test2()"
   ]
  },
  {
   "cell_type": "markdown",
   "metadata": {},
   "source": [
    "# Given by the exercise"
   ]
  },
  {
   "cell_type": "code",
   "execution_count": 67,
   "metadata": {},
   "outputs": [],
   "source": [
    "class Worklist:\n",
    "  \"\"\"Describes a simple list data type.\"\"\"\n",
    "\n",
    "  def add(self, element):\n",
    "    \"\"\"Adds a new element into this list.\"\"\"\n",
    "\n",
    "  def remove(self):\n",
    "    \"\"\"Removes the next element from this list.\"\"\"\n",
    "\n",
    "  def hasMore(self):\n",
    "    \"\"\"Returns True if this list is not empty.\"\"\"\n",
    "\n",
    "class Node:\n",
    "\t\"\"\"The node that must be inserted into the different lists.\"\"\"\n",
    "\tdef __init__(self):\n",
    "\t\tself.n = 0\t\n",
    "\t\tself.e = ''\n",
    "\n",
    "class Stack:\n",
    "  \"\"\"Describes a stack data type.\"\"\"\n",
    "\n",
    "  def __init__(self):\n",
    "    self.top = Node()\n",
    "\n",
    "  def add(self, element):\n",
    "    \"\"\"Adds a new element into this list.\"\"\"\n",
    "    self.top.e = element\n",
    "    aux = Node()\n",
    "    aux.n = self.top\n",
    "    self.top = aux\n",
    "\n",
    "  def remove(self):\n",
    "    \"\"\"Removes the next element from this list.\"\"\"\n",
    "    self.top = self.top.n\n",
    "    return self.top.e\n",
    "\n",
    "  def hasMore(self):\n",
    "    \"\"\"Returns True if this list is not empty.\"\"\"\n",
    "    return (self.top.n != 0)\n",
    "\n",
    "def removeAll(s):\n",
    "  \"\"\"Removes all the elements from the data structure.\"\"\"\n",
    "  while (s.hasMore()):\n",
    "    print(s.remove())"
   ]
  },
  {
   "cell_type": "code",
   "execution_count": 20,
   "metadata": {},
   "outputs": [],
   "source": [
    "# 2-a) Implement a linked list Queue, first-in first-out, with the same methods as Stack\n",
    "class Queue:\n",
    "\n",
    "\tdef __init__(self):\n",
    "\t\tself.top = Node()\n",
    "\t\n",
    "\tdef add(self, element):\n",
    "\t\tself.top.e = element\n",
    "\t\taux = Node()\n",
    "\t\taux.n = self.top\n",
    "\t\tself.top = aux\n",
    "\n",
    "\tdef remove(self):\n",
    "\t\taux = self.top\n",
    "\t\tif aux.n != 0:\n",
    "\t\t\twhile aux.n.n != 0:\n",
    "\t\t\t\taux = aux.n\n",
    "\t\t\te = aux.n.e\n",
    "\t\t\taux.n = 0\n",
    "\t\treturn e\n",
    "\n",
    "\tdef hasMore(self):\n",
    "\t\treturn (self.top.n != 0)"
   ]
  },
  {
   "cell_type": "code",
   "execution_count": 21,
   "metadata": {},
   "outputs": [
    {
     "name": "stdout",
     "output_type": "stream",
     "text": [
      "1\n",
      "2\n",
      "3\n",
      "4\n",
      "5\n"
     ]
    }
   ],
   "source": [
    "a = Queue()\n",
    "a.add(1)\n",
    "a.add(2)\n",
    "a.add(3)\n",
    "a.add(4)\n",
    "a.add(5)\n",
    "print(a.remove())\n",
    "removeAll(a)"
   ]
  },
  {
   "cell_type": "code",
   "execution_count": 57,
   "metadata": {},
   "outputs": [],
   "source": [
    "# 2-b) Implement a linked list Priority Queue, lexicographically ordered, with the same methods as Stack, can edit class Node, without breaking class Stack\n",
    "class PriorityQueue:\n",
    "\n",
    "\tdef __init__(self):\n",
    "\t\tself.top = Node()\n",
    "\t\n",
    "\tdef add(self, element):\n",
    "\t\tself.top.e = element\n",
    "\t\taux = Node()\n",
    "\t\taux.n = self.top\n",
    "\t\tself.top = aux\n",
    "\n",
    "\tdef remove(self):\n",
    "\t\tif self.top.n == 0:\n",
    "\t\t\treturn None\n",
    "\t\taux = self.top.n\n",
    "\t\tprev = self.top\n",
    "\t\ts = aux\n",
    "\t\twhile aux.n != 0:\n",
    "\t\t\tif aux.n < s:\n",
    "\t\t\t\ts = aux.n\n",
    "\t\t\t\tprev = aux\n",
    "\t\t\taux = aux.n\n",
    "\t\tprev.n = s.n\n",
    "\t\treturn s.e\n",
    "\n",
    "\tdef hasMore(self):\n",
    "\t\treturn (self.top.n != 0)\n",
    "\t\t\n",
    "class Node:\n",
    "\t\"\"\"The node that must be inserted into the different lists.\"\"\"\n",
    "\tdef __init__(self):\n",
    "\t\tself.n = 0\t\n",
    "\t\tself.e = ''\n",
    "\n",
    "\tdef __lt__(self, otherNode):\n",
    "\t\treturn str(self.e) < str(otherNode.e)"
   ]
  },
  {
   "cell_type": "code",
   "execution_count": 66,
   "metadata": {},
   "outputs": [
    {
     "name": "stdout",
     "output_type": "stream",
     "text": [
      "1\n",
      "2\n",
      "3\n",
      "4\n",
      "5\n"
     ]
    }
   ],
   "source": [
    "a = PriorityQueue()\n",
    "a.add(3)\n",
    "a.add(2)\n",
    "a.add(4)\n",
    "a.add(1)\n",
    "a.add(5)\n",
    "print(a.remove())\n",
    "removeAll(a)"
   ]
  },
  {
   "cell_type": "code",
   "execution_count": null,
   "metadata": {},
   "outputs": [],
   "source": [
    "# 2-c) Which alterations would be needed to implement a Priority Queue that is ordered by the value of the integer n?\n",
    "\n",
    "# class Node:\n",
    "# \t\"\"\"The node that must be inserted into the different lists.\"\"\"\n",
    "# \tdef __init__(self):\n",
    "# \t\tself.n = 0\t\n",
    "# \t\tself.e = ''\n",
    "\n",
    "# \tdef __lt__(self, otherNode):\n",
    "# \t\treturn str(self.e) < str(otherNode.e) -> The castings to string must be removed \n",
    "# \t\treturn self.n < otherNode.n -> The comparison must be done by the integer n\n"
   ]
  },
  {
   "cell_type": "code",
   "execution_count": null,
   "metadata": {},
   "outputs": [],
   "source": [
    "# 2-d) Consider this method remove:\n",
    "\n",
    "\t# def removeAll(s):\n",
    "\t\t# \"\"\"Removes all the elements from the data structure.\"\"\"\n",
    "\t\t# while (s.hasMore()):\n",
    "\t\t# print s.remove()\n",
    "\n",
    "# i- What is the contract that must be garanteed by elements s passed as parameter?\n",
    "\n",
    "\t# The ADT of s must have the methods hasMore and remove\n",
    "\n",
    "# ii- Look up the meaning of the expression \"duck typing\". How does it apply to this method?\n",
    "\n",
    "\t# Duck typing means that s should support all method signatures expected from it in removeAll function, so that it can be used in the function, which is the contract that must be garanteed by elements s passed as parameter"
   ]
  },
  {
   "cell_type": "code",
   "execution_count": null,
   "metadata": {},
   "outputs": [],
   "source": [
    "# 3- Write class Int with the following components:\n",
    "\n",
    "\t# a) A field to store an integer\n",
    "\t# b) A constructor that receives an integer and creates a new instance of Int with that value\n",
    "\t# c) A method plus that receives an Int and returns a new Int with the sum of the two integers\n",
    "\t# d) A method toString that returns a string representation of the integer\n",
    "\t# e) Methods minus, times and div. Div should be an integer division, that is, 5 div 2 = 2\n",
    "\t# f) A Method isPrime that returns True if the integer is prime, and False otherwise"
   ]
  },
  {
   "cell_type": "code",
   "execution_count": 80,
   "metadata": {},
   "outputs": [],
   "source": [
    "class Int:\n",
    "\n",
    "\tdef __init__(self, n):\n",
    "\t\tself.n = n\n",
    "\n",
    "\tdef plus(self, otherInt):\n",
    "\t\treturn Int(self.n + otherInt.n)\n",
    "\n",
    "\tdef toString(self):\n",
    "\t\treturn str(self.n)\n",
    "\n",
    "\tdef minus(self, otherInt):\n",
    "\t\treturn Int(self.n - otherInt.n)\n",
    "\n",
    "\tdef times(self, otherInt):\n",
    "\t\treturn Int(self.n * otherInt.n)\n",
    "\n",
    "\tdef div(self, otherInt):\n",
    "\t\treturn Int(self.n // otherInt.n)\n",
    "\n",
    "\tdef isPrime(self):\n",
    "\t\tif self.n == 1:\n",
    "\t\t\treturn False\n",
    "\t\tfor i in range(2, self.n):\n",
    "\t\t\tif self.n % i == 0:\n",
    "\t\t\t\treturn False\n",
    "\t\treturn True\n"
   ]
  },
  {
   "cell_type": "code",
   "execution_count": 81,
   "metadata": {},
   "outputs": [
    {
     "name": "stdout",
     "output_type": "stream",
     "text": [
      "7\n",
      "3\n",
      "10\n",
      "2\n",
      "False\n",
      "True\n",
      "False\n"
     ]
    }
   ],
   "source": [
    "a = Int(5)\n",
    "b = Int(2)\n",
    "print(a.plus(b).toString())\n",
    "print(a.minus(b).toString())\n",
    "print(a.times(b).toString())\n",
    "print(a.div(b).toString())\n",
    "print(Int(1).isPrime())\n",
    "print(Int(2).isPrime())\n",
    "print(Int(4).isPrime())"
   ]
  },
  {
   "cell_type": "markdown",
   "metadata": {},
   "source": [
    "# Lista 17"
   ]
  },
  {
   "cell_type": "markdown",
   "metadata": {},
   "source": [
    "Given by the exercise"
   ]
  },
  {
   "cell_type": "code",
   "execution_count": 85,
   "metadata": {},
   "outputs": [],
   "source": [
    "class Node:\n",
    "\tdef __init__(self):\n",
    "\t\tself.data = ''\n",
    "\t\tself.link = 0\n",
    "\n",
    "class Stack:\n",
    "\tdef __init__(self):\n",
    "\t\tself.top = Node()\n",
    "\n",
    "def add(s, data):\n",
    "\tn = Node()\n",
    "\tn.data = data\n",
    "\tn.link = s.top\n",
    "\ts.top = n\n",
    "\n",
    "def hasMore(s):\n",
    "\treturn s.top.link != 0\n",
    "\n",
    "def remove(s):\n",
    "\tn = s.top\n",
    "\ts.top = n.link\n",
    "\treturn n.data\n",
    "\n",
    "def test():\n",
    "\ts = Stack()\n",
    "\tadd(s, \"AA\")\n",
    "\tadd(s, 0)\n",
    "\twhile (hasMore(s)):\n",
    "\t\tprint(remove(s))\t"
   ]
  },
  {
   "cell_type": "code",
   "execution_count": 86,
   "metadata": {},
   "outputs": [
    {
     "name": "stdout",
     "output_type": "stream",
     "text": [
      "0\n",
      "AA\n"
     ]
    }
   ],
   "source": [
    "test()"
   ]
  },
  {
   "cell_type": "code",
   "execution_count": null,
   "metadata": {},
   "outputs": [],
   "source": [
    "# 1-a) Why does the program not follow OOP characteristics?\n",
    "\n",
    "\t# Class Stack and Node only stores data, they have no behaviour, which is the main characteristic of OOP"
   ]
  },
  {
   "cell_type": "code",
   "execution_count": 87,
   "metadata": {},
   "outputs": [],
   "source": [
    "# 1-b) Rewrite the program in an object-oriented style\n",
    "\n",
    "class Node:\n",
    "\tdef __init__(self):\n",
    "\t\tself.data = ''\n",
    "\t\tself.link = 0\n",
    "\n",
    "class Stack:\n",
    "\tdef __init__(self):\n",
    "\t\tself.top = Node()\n",
    "\n",
    "\tdef add(self, data):\n",
    "\t\tn = Node()\n",
    "\t\tn.data = data\n",
    "\t\tn.link = self.top\n",
    "\t\tself.top = n\n",
    "\n",
    "\tdef hasMore(self):\n",
    "\t\treturn self.top.link != 0\n",
    "\n",
    "\tdef remove(self):\n",
    "\t\tn = self.top\n",
    "\t\tself.top = n.link\n",
    "\t\treturn n.data\n",
    "\n",
    "def test():\n",
    "\ts = Stack()\n",
    "\tadd(s, \"AA\")\n",
    "\tadd(s, 0)\n",
    "\twhile (hasMore(s)):\n",
    "\t\tprint(remove(s))"
   ]
  },
  {
   "cell_type": "code",
   "execution_count": 88,
   "metadata": {},
   "outputs": [
    {
     "name": "stdout",
     "output_type": "stream",
     "text": [
      "0\n",
      "AA\n"
     ]
    }
   ],
   "source": [
    "test()"
   ]
  },
  {
   "cell_type": "code",
   "execution_count": 99,
   "metadata": {},
   "outputs": [],
   "source": [
    "# 2- Look at the program and write what will happen on each enumerated line\n",
    "\n",
    "class Animal:\n",
    "\tatrb_animal = 0\n",
    "\n",
    "\tdef __init__(self, name):\n",
    "\t\tself.name = name\n",
    "\n",
    "\tdef __str__(self):\n",
    "\t\treturn self.name + \" is an animal\"\n",
    "\n",
    "\tdef eat(self):\n",
    "\t\tprint(self.name + \", which is an animal, is eating.\")\n",
    "\n",
    "class Mammal(Animal):\n",
    "\tdef __str__(self):\n",
    "\t\treturn self.name + \" is a mammal\"\n",
    "\n",
    "\tdef suckMilk(self):\n",
    "\t\tprint(self.name + \", which is a mammal, is sucking milk.\")\n",
    "\n",
    "class Dog(Mammal):\n",
    "\tdef __str__(self):\n",
    "\t\treturn self.name + \" is a dog\"\n",
    "\n",
    "\tdef bark(self):\n",
    "\t\tprint(self.name + \" is barking rather loudly.\")\n",
    "\n",
    "\tdef eat(self):\n",
    "\t\tprint(self.name + \" barks when it eats.\")\n",
    "\t\tself.bark\n",
    "\n",
    "def test():\n",
    "\ta1 = Animal(\"Tigrinho\")\n",
    "\ta2 = Mammal(\"Oncinha\")\n",
    "\ta3 = Dog(\"Mameluco\")\n",
    "\tprint(a1) # 1 Tigrinho is an animal.\n",
    "\tprint(a2) # 2 Oncinha is a mammal.\n",
    "\tprint(a3) # 3 Mameluco is a dog.\n",
    "\ta1.eat() # 4 Tigrinho, which is an animal, is eating.\n",
    "\ta2.suckMilk() # 5 Oncinha, which is a mammal, is sucking milk.\n",
    "\ta2.eat() # 6 Oncinha, which is an animal, is eating.\n",
    "\ta3.bark() # 7 Mameluco is barking rather loudly.\n",
    "\ta3.suckMilk() # 8 Mameluco, which is a mammal, is sucking milk.\n",
    "\ta3.eat() # 9 Mameluco barks when it eats.\n",
    "\ta1.bark() # 10 Animals cannot bark, error\n",
    "\ta1 = a3\n",
    "\ta1.bark() # 11 Mameluco is barking rather loudly\n"
   ]
  },
  {
   "cell_type": "code",
   "execution_count": 100,
   "metadata": {},
   "outputs": [
    {
     "name": "stdout",
     "output_type": "stream",
     "text": [
      "Tigrinho is an animal\n",
      "Oncinha is a mammal\n",
      "Mameluco is a dog\n",
      "Tigrinho, which is an animal, is eating.\n",
      "Oncinha, which is a mammal, is sucking milk.\n",
      "Oncinha, which is an animal, is eating.\n",
      "Mameluco is barking rather loudly.\n",
      "Mameluco, which is a mammal, is sucking milk.\n",
      "Mameluco barks when it eats.\n"
     ]
    },
    {
     "ename": "AttributeError",
     "evalue": "'Animal' object has no attribute 'bark'",
     "output_type": "error",
     "traceback": [
      "\u001b[0;31m---------------------------------------------------------------------------\u001b[0m",
      "\u001b[0;31mAttributeError\u001b[0m                            Traceback (most recent call last)",
      "\u001b[1;32m/home/flipe/UFMG/5 Periodo/LP/Lista.ipynb Cell 57\u001b[0m line \u001b[0;36m1\n\u001b[0;32m----> <a href='vscode-notebook-cell://wsl%2Bubuntu/home/flipe/UFMG/5%20Periodo/LP/Lista.ipynb#Y112sdnNjb2RlLXJlbW90ZQ%3D%3D?line=0'>1</a>\u001b[0m test()\n",
      "\u001b[1;32m/home/flipe/UFMG/5 Periodo/LP/Lista.ipynb Cell 57\u001b[0m line \u001b[0;36m4\n\u001b[1;32m     <a href='vscode-notebook-cell://wsl%2Bubuntu/home/flipe/UFMG/5%20Periodo/LP/Lista.ipynb#Y112sdnNjb2RlLXJlbW90ZQ%3D%3D?line=43'>44</a>\u001b[0m a3\u001b[39m.\u001b[39msuckMilk() \u001b[39m# 8 Mameluco, which is a mammal, is sucking milk.\u001b[39;00m\n\u001b[1;32m     <a href='vscode-notebook-cell://wsl%2Bubuntu/home/flipe/UFMG/5%20Periodo/LP/Lista.ipynb#Y112sdnNjb2RlLXJlbW90ZQ%3D%3D?line=44'>45</a>\u001b[0m a3\u001b[39m.\u001b[39meat() \u001b[39m# 9 Mameluco barks when it eats.\u001b[39;00m\n\u001b[0;32m---> <a href='vscode-notebook-cell://wsl%2Bubuntu/home/flipe/UFMG/5%20Periodo/LP/Lista.ipynb#Y112sdnNjb2RlLXJlbW90ZQ%3D%3D?line=45'>46</a>\u001b[0m a1\u001b[39m.\u001b[39;49mbark() \u001b[39m# 10 Animals cannot bark, error\u001b[39;00m\n\u001b[1;32m     <a href='vscode-notebook-cell://wsl%2Bubuntu/home/flipe/UFMG/5%20Periodo/LP/Lista.ipynb#Y112sdnNjb2RlLXJlbW90ZQ%3D%3D?line=46'>47</a>\u001b[0m a1 \u001b[39m=\u001b[39m a3\n\u001b[1;32m     <a href='vscode-notebook-cell://wsl%2Bubuntu/home/flipe/UFMG/5%20Periodo/LP/Lista.ipynb#Y112sdnNjb2RlLXJlbW90ZQ%3D%3D?line=47'>48</a>\u001b[0m a1\u001b[39m.\u001b[39mbark()\n",
      "\u001b[0;31mAttributeError\u001b[0m: 'Animal' object has no attribute 'bark'"
     ]
    }
   ],
   "source": [
    "test()"
   ]
  },
  {
   "cell_type": "code",
   "execution_count": null,
   "metadata": {},
   "outputs": [],
   "source": [
    "# Exercises 3-4 are in Java"
   ]
  },
  {
   "cell_type": "code",
   "execution_count": null,
   "metadata": {},
   "outputs": [],
   "source": [
    "# 5- In Java, we can use the static type of passed parameters to decide which method to call. For example, the class of the previous exercise:\n",
    "\n",
    "# public class Avatar {\n",
    "# \tpublic void buy(Knife k) { System.out.println(\"Avatar bought a knife\"); }\n",
    "# \tpublic void buy(Sword s) { System.out.println(\"Avatar bought a sword\"); }\n",
    "# \t\n",
    "\t# public static void main(String args[]) {\n",
    "\t# \tAvatar a = new Avatar();\n",
    "\t# \tKnife k = new Knife();\n",
    "\t# \tSword s = new Sword();\n",
    "\t# \ta.buy(k);\n",
    "\t# \ta.buy(s);\n",
    "# \t}\n",
    "# }"
   ]
  },
  {
   "cell_type": "code",
   "execution_count": null,
   "metadata": {},
   "outputs": [],
   "source": [
    "# 5-a) Why is this strategy not possible in Python?\n",
    "\n",
    "\t# Python is a dynamically typed language, so the type of the parameters is only known at runtime, so it is not possible to decide which method to call at compile time"
   ]
  },
  {
   "cell_type": "code",
   "execution_count": null,
   "metadata": {},
   "outputs": [],
   "source": [
    "# 5-b) How can the program above be rewritten in Python? It is not possible to create an identical program, but you can try to emulate the same behaviour. (Lista17/4/SpiderAv.java)\n",
    "\n",
    "# Translation of the Java code to Python:\n",
    "\n",
    "# class Avatar:\n",
    "# \tdef buy(self, k):\n",
    "# \t\tprint(\"Avatar bought a knife\")\n",
    "\n",
    "# \tdef buy(self, s):\n",
    "# \t\tprint(\"Avatar bought a sword\")\n",
    "\n",
    "# class Knife:\n",
    "# \tdef isBoughtBy(self, a):\n",
    "# \t\ta.buy(self)\n",
    "\n",
    "# class Sword:\n",
    "# \tdef isBoughtBy(self, a):\n",
    "# \t\ta.buy(self)\n",
    "\n",
    "# class SpiderAv(Avatar):\n",
    "# \tdef buy(self, k):\n",
    "# \t\tprint(\"SpiderAvatar bought a knife\")\n",
    "\n",
    "# \tdef buy(self, s):\n",
    "# \t\tprint(\"SpiderAvatar bought a sword\")\n",
    "\n",
    "# def test():\n",
    "# \ta1 = Avatar()\n",
    "# \ta2 = SpiderAv()\n",
    "# \tsa = SpiderAv()\n",
    "# \tks = Sword()\n",
    "# \ta1.buy(ks)\n",
    "# \ta2.buy(ks)\n",
    "# \tsa.buy(ks)\n",
    "# \tks.isBoughtBy(a1)\n",
    "# \tks.isBoughtBy(a2)\n",
    "# \tks.isBoughtBy(sa)"
   ]
  },
  {
   "cell_type": "code",
   "execution_count": null,
   "metadata": {},
   "outputs": [],
   "source": [
    "# Exercises 6-7 are in Java"
   ]
  },
  {
   "cell_type": "code",
   "execution_count": null,
   "metadata": {},
   "outputs": [],
   "source": [
    "# 7- Answer:\n",
    "\n",
    "\t# No, both calls have the same efficiency, because to call the method, the program must first go to the object's vTable, and then to the method's address, so the number\n",
    "\t# of steps is the same, in O(1)"
   ]
  },
  {
   "cell_type": "code",
   "execution_count": null,
   "metadata": {},
   "outputs": [],
   "source": [
    "# 8- This exercise is similar to the last one, but using Python instead of Java. Consider the following program:\n",
    "\n",
    "class Animal:\n",
    "\tatrb_animal = 0\n",
    "\n",
    "\tdef __init__(self, name):\n",
    "\t\tself.name = name\n",
    "\t\n",
    "\tdef eat(self):\n",
    "\t\tprint \"Eating. Yummy, yummy!!!\"\n",
    "\n",
    "class Mammal(Animal):\n",
    "\tpass\n",
    "\n",
    "def test():\n",
    "\ta1 = Animal(\"Tigrinho\")\n",
    "\ta2 = Mammal(\"Oncinha\")\n",
    "\t# Chamada 1:\n",
    "\ta1.eat()\n",
    "\t# Chamada 2:\n",
    "\ta2.eat()\n",
    "\n",
    "# Is there a diffence in efficiency between the two calls? Why?\n",
    "\n",
    "\t# "
   ]
  },
  {
   "cell_type": "markdown",
   "metadata": {},
   "source": [
    "# Lista 18"
   ]
  },
  {
   "cell_type": "code",
   "execution_count": 1,
   "metadata": {},
   "outputs": [],
   "source": [
    "class Staff:\n",
    "\tpayroll = {}\n",
    "\n",
    "\tdef getSalary(self, name):\n",
    "\t\tif self.payroll.has_key(name):\n",
    "\t\t\treturn self.payroll[name]\n",
    "\t\telse:\n",
    "\t\t\treturn 0.0\n",
    "\t\n",
    "\tdef addEmp(self, name, salary):\n",
    "\t\tself.payroll[name] = salary\n",
    "\t\n",
    "\tdef raiseSalary(self, name, salary):\n",
    "\t\tself.payroll[name] = self.payroll[name] + salary\n",
    "\n",
    "# 1-a) The getSalary method uses a special value 0.0 as the salary of a non existent employee.\n",
    "# What is the disadvantage of this error treatment method?\n",
    "\n",
    "\t# You would not be able to know if an employee does not exist or if he actually has a salary of 0.0.\n",
    "\t# In this case, it should not pose any problems, since employees have to have a salary, but in other\n",
    "\t# cases, it could be a problem\n",
    "\n",
    "# 1-b) Create the NonExistentEmployee exception\n",
    "\n",
    "class NonExistentEmployee(Exception):\n",
    "\tdef __init__(self, msg):\n",
    "\t\tself.value = msg\n",
    "\n",
    "\tdef __str__(self):\n",
    "\t\treturn repr(self.value)\n",
    "\n",
    "\n",
    "# 1-c) Modify getSalary to raise NonExistentEmployee exception\n",
    "\n",
    "class Staff:\n",
    "\tpayroll = {}\n",
    "\n",
    "\tdef getSalary(self, name):\n",
    "\t\tif name in self.payroll:\n",
    "\t\t\treturn self.payroll[name]\n",
    "\t\telse:\n",
    "\t\t\traise NonExistentEmployee(\"There is no employee with the name \" + name)\n",
    "\t\n",
    "\tdef addEmp(self, name, salary):\n",
    "\t\tself.payroll[name] = salary\n",
    "\t\n",
    "\tdef raiseSalary(self, name, salary):\n",
    "\t\tself.payroll[name] = self.payroll[name] + salary\n",
    "\n",
    "# 1-d) Create the NegativeSalary exception, instances of this class must have attributes name and salary\n",
    "\n",
    "class NegativeSalary(Exception):\n",
    "\tdef __init__(self, name, salary, msg):\n",
    "\t\tself.name = name\n",
    "\t\tself.salary = salary\n",
    "\t\tself.value = msg\n",
    "\n",
    "\tdef __str__(self):\n",
    "\t\treturn repr(self.value)\n",
    "\n",
    "# 1-d) Modify addEmp to raise NegativeSalary exception\n",
    "\n",
    "class Staff:\n",
    "\tpayroll = {}\n",
    "\n",
    "\tdef getSalary(self, name):\n",
    "\t\tif name in self.payroll:\n",
    "\t\t\treturn self.payroll[name]\n",
    "\t\telse:\n",
    "\t\t\traise NonExistentEmployee(\"There is no employee with the name \" + name)\n",
    "\t\n",
    "\tdef addEmp(self, name, salary):\n",
    "\t\tif salary < 0:\n",
    "\t\t\traise NegativeSalary(name, salary, \"Tried to enter a negative salary to \" + name)\n",
    "\t\tself.payroll[name] = salary\n",
    "\t\n",
    "\tdef raiseSalary(self, name, salary):\n",
    "\t\tself.payroll[name] = self.payroll[name] + salary\n",
    "\n",
    "# 1-f) Modify raiseSalary to handle both NonExistentEmployee and NegativeSalary exceptions\n",
    "\n",
    "class Staff:\n",
    "\tpayroll = {}\n",
    "\n",
    "\tdef getSalary(self, name):\n",
    "\t\tif name in self.payroll:\n",
    "\t\t\treturn self.payroll[name]\n",
    "\t\telse:\n",
    "\t\t\traise NonExistentEmployee(\"There is no employee with the name \" + name)\n",
    "\t\n",
    "\tdef addEmp(self, name, salary):\n",
    "\t\tif salary < 0:\n",
    "\t\t\traise NegativeSalary(name, salary, \"Tried to enter a negative salary to \" + name)\n",
    "\t\tself.payroll[name] = salary\n",
    "\t\n",
    "\tdef raiseSalary(self, name, salary):\n",
    "\t\tif name not in self.payroll:\n",
    "\t\t\traise NonExistentEmployee(\"There is no employee with the name \" + name)\n",
    "\t\tif salary < 0:\n",
    "\t\t\traise NegativeSalary(name, salary, \"Tried to reduce \" + name + \"'s salary\" )\n",
    "\t\tself.payroll[name] = self.payroll[name] + salary\n",
    "\t\t\n",
    "\n",
    "\n",
    "\n",
    "def readEmployees(s):\n",
    "\tname = input(\"Please, enter a name (Press RETURN to finish) \")\n",
    "\twhile name != '':\n",
    "\t\tsalary = float(input(\"Please, enter the salary: \"))\n",
    "\t\ts.raiseSalary(name, salary)\n",
    "\t\tname = input(\"Please, enter a name (Press RETURN to finish) \")\n",
    "\n",
    "# 1-g) Rewrite this method to implement error treatment, if an exception is raised, the program should\n",
    "# not stop, instead, the user must have the opportunity to inform another name, the same is valid for \n",
    "# negative salaries\n",
    "\n",
    "def readEmployees(s):\n",
    "\tname = input(\"Please, enter a name (Press RETURN to finish) \")\n",
    "\twhile name != '':\n",
    "\t\tsalary = float(input(\"Please, enter the salary: \"))\n",
    "\t\ttry:\n",
    "\t\t\ts.raiseSalary(name, salary)\n",
    "\t\texcept NonExistentEmployee as ne:\n",
    "\t\t\tprint(ne.value)\n",
    "\t\texcept NegativeSalary as ns:\n",
    "\t\t\tprint(ns.value)\n",
    "\t\t\tcontinue\n",
    "\t\tname = input(\"Please, enter a name (Press RETURN to finish) \")\n"
   ]
  },
  {
   "cell_type": "code",
   "execution_count": 14,
   "metadata": {},
   "outputs": [],
   "source": [
    "def test():\n",
    "\ts = Staff()\n",
    "\ts.addEmp(\"carlos\", 1500)\n",
    "\ts.raiseSalary(\"carlos\", -1000)\n",
    "\ts.raiseSalary(\"joao\", 1000)\n",
    "\ts.addEmp(\"pedro\", -1500)\n",
    "\ts.getSalary(\"joao\")\n",
    "\ts.addEmp(\"joao\", 1000)\n",
    "\ts.getSalary(\"joao\")\n",
    "\n",
    "def test2():\n",
    "\ts = Staff()\n",
    "\ts.addEmp(\"joao\", 1000)\n",
    "\ts.addEmp(\"carlos\", 1500)\n",
    "\ts.addEmp(\"pedro\", 1200)\n",
    "\treadEmployees(s)\n",
    "\tprint(s.payroll)\t\n"
   ]
  },
  {
   "cell_type": "code",
   "execution_count": 16,
   "metadata": {},
   "outputs": [
    {
     "name": "stdout",
     "output_type": "stream",
     "text": [
      "{'joao': 1000, 'carlos': 11500.0, 'pedro': 1200}\n"
     ]
    }
   ],
   "source": [
    "test2()"
   ]
  },
  {
   "cell_type": "code",
   "execution_count": null,
   "metadata": {},
   "outputs": [],
   "source": [
    "# Question 2 in Java\n",
    "\n",
    "\"\"\" \n",
    "class Wrapper<E> {\n",
    "\tprivate E o;\n",
    "\t\n",
    "\tWrapper() {\n",
    "\t\tthis.o = null;\n",
    "\t}\n",
    "\t\n",
    "\tWrapper(E o) {\n",
    "\t\tthis.o = o;\n",
    "\t}\n",
    "\t\n",
    "\tE get() {\n",
    "\t\treturn o;\n",
    "\t}\n",
    "}\n",
    "\n",
    "public class Test {\n",
    "\t\n",
    "\tpublic static void main(String a[]) {\n",
    "\t\tWrapper<String> w = new Wrapper<String>();\n",
    "\t\tSystem.out.println(w.get().toString());\n",
    "\t}\n",
    "}\n",
    "\"\"\"\n",
    "\n",
    "# 2-a) What type of error is raised by the program above?\n",
    "\n",
    "\t# NullPointerException\n",
    "\n",
    "# 2-b) Define an exception class to represent this error\n",
    "\n",
    "\"\"\"\n",
    "class EmptyWrapperException extends Exception {\n",
    "\tpublic EmptyWrapperException() {\n",
    "\t\tsuper(\"Empty Wrapper!\");\n",
    "\t}\n",
    "}\n",
    "\"\"\"\n",
    "\n",
    "# 2-c) Modify the method get to raise this exception\n",
    "\n",
    "\"\"\"\n",
    "E get() throws EmptyWrapperException {\n",
    "\tif(o == null){\n",
    "\t\tthrow new EmptyWrapperException();\n",
    "\t}\n",
    "\treturn o;\n",
    "}\n",
    "\"\"\"\n",
    "\n",
    "# 2-d) Modify the method main to handle this exception\n",
    "\n",
    "\"\"\"\n",
    "public static void main(String a[]) {\n",
    "\tWrapper<String> w = new Wrapper<String>();\n",
    "\ttry {\n",
    "\t\tSystem.out.println(w.get().toString());\n",
    "\t} catch(EmptyWrapperException e) {\n",
    "\t\tSystem.out.println(e.getMessage());\n",
    "\t}\n",
    "}\n",
    "\"\"\""
   ]
  },
  {
   "cell_type": "code",
   "execution_count": null,
   "metadata": {},
   "outputs": [],
   "source": [
    "# Question 3 in Java\n",
    "\n",
    "# 3- Unlike Python, Java has statically verified exceptions. These exceptions must be explicitly treated\n",
    "# by the developer. For an example, the method below would not compile if we were to remove the exception\n",
    "# handling clauses:\n",
    "\n",
    "\"\"\"\n",
    "import java.io.File;\n",
    "import java.io.FileNotFoundException;\n",
    "import java.util.Scanner;\n",
    "\n",
    "public static void fileReader(final String fileName) {\n",
    "\ttry {\n",
    "\t\tScanner s = new Scanner(new File(fileName));\n",
    "\t\t// ... read the file here ...\n",
    "\t} catch (FileNotFoundException e) {\n",
    "\t\te.printStackTrace();\n",
    "\t}\n",
    "}\n",
    "\"\"\"\n",
    "\n",
    "# 3-a) Which exceptions are statically verified? That is, how can we declare exceptions like these?\n",
    "\n",
    "\t# Exceptions which extend the class Exception must be handled by the developer, that is, they are\n",
    "\t# statically verified. "
   ]
  }
 ],
 "metadata": {
  "kernelspec": {
   "display_name": "Python 3",
   "language": "python",
   "name": "python3"
  },
  "language_info": {
   "codemirror_mode": {
    "name": "ipython",
    "version": 3
   },
   "file_extension": ".py",
   "mimetype": "text/x-python",
   "name": "python",
   "nbconvert_exporter": "python",
   "pygments_lexer": "ipython3",
   "version": "3.8.10"
  }
 },
 "nbformat": 4,
 "nbformat_minor": 2
}
